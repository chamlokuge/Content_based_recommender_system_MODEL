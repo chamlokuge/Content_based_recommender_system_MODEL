{
 "cells": [
  {
   "cell_type": "code",
   "execution_count": 19,
   "metadata": {},
   "outputs": [],
   "source": [
    "import numpy as np\n",
    "import pandas as pd\n",
    "\n",
    "from sklearn.metrics.pairwise import cosine_similarity"
   ]
  },
  {
   "cell_type": "code",
   "execution_count": 21,
   "metadata": {},
   "outputs": [
    {
     "data": {
      "text/html": [
       "<div>\n",
       "<style scoped>\n",
       "    .dataframe tbody tr th:only-of-type {\n",
       "        vertical-align: middle;\n",
       "    }\n",
       "\n",
       "    .dataframe tbody tr th {\n",
       "        vertical-align: top;\n",
       "    }\n",
       "\n",
       "    .dataframe thead th {\n",
       "        text-align: right;\n",
       "    }\n",
       "</style>\n",
       "<table border=\"1\" class=\"dataframe\">\n",
       "  <thead>\n",
       "    <tr style=\"text-align: right;\">\n",
       "      <th></th>\n",
       "      <th>seafood</th>\n",
       "      <th>salad</th>\n",
       "      <th>cream_based</th>\n",
       "      <th>asian</th>\n",
       "      <th>baking_goods</th>\n",
       "      <th>meat</th>\n",
       "      <th>italian</th>\n",
       "      <th>mexican</th>\n",
       "    </tr>\n",
       "    <tr>\n",
       "      <th>title</th>\n",
       "      <th></th>\n",
       "      <th></th>\n",
       "      <th></th>\n",
       "      <th></th>\n",
       "      <th></th>\n",
       "      <th></th>\n",
       "      <th></th>\n",
       "      <th></th>\n",
       "    </tr>\n",
       "  </thead>\n",
       "  <tbody>\n",
       "    <tr>\n",
       "      <th>Chip Truck Fries</th>\n",
       "      <td>0.020844</td>\n",
       "      <td>0.377264</td>\n",
       "      <td>0.02084</td>\n",
       "      <td>0.497684</td>\n",
       "      <td>0.02084</td>\n",
       "      <td>0.02084</td>\n",
       "      <td>0.020843</td>\n",
       "      <td>0.020845</td>\n",
       "    </tr>\n",
       "  </tbody>\n",
       "</table>\n",
       "</div>"
      ],
      "text/plain": [
       "                   seafood     salad  cream_based     asian  baking_goods  \\\n",
       "title                                                                       \n",
       "Chip Truck Fries  0.020844  0.377264      0.02084  0.497684       0.02084   \n",
       "\n",
       "                     meat   italian   mexican  \n",
       "title                                          \n",
       "Chip Truck Fries  0.02084  0.020843  0.020845  "
      ]
     },
     "execution_count": 21,
     "metadata": {},
     "output_type": "execute_result"
    }
   ],
   "source": [
    "lda_matrix = pd.read_csv('recipe_lda.csv')\n",
    "lda_matrix.set_index('title', inplace=True)\n",
    "lda_matrix.head(1)"
   ]
  },
  {
   "cell_type": "code",
   "execution_count": 22,
   "metadata": {},
   "outputs": [
    {
     "data": {
      "text/plain": [
       "(4776, 8)"
      ]
     },
     "execution_count": 22,
     "metadata": {},
     "output_type": "execute_result"
    }
   ],
   "source": [
    "lda_matrix.shape"
   ]
  },
  {
   "cell_type": "code",
   "execution_count": 23,
   "metadata": {},
   "outputs": [],
   "source": [
    "lda_array = lda_matrix.to_numpy()"
   ]
  },
  {
   "cell_type": "code",
   "execution_count": 5,
   "metadata": {},
   "outputs": [
    {
     "data": {
      "text/plain": [
       "array([[0.02084364, 0.3772639 , 0.02083951, ..., 0.02084048, 0.02084331,\n",
       "        0.02084466],\n",
       "       [0.01020898, 0.37875134, 0.01020757, ..., 0.01021254, 0.01020785,\n",
       "        0.55999607],\n",
       "       [0.9102419 , 0.01282637, 0.01282241, ..., 0.01282223, 0.01282171,\n",
       "        0.01282298],\n",
       "       ...,\n",
       "       [0.01470774, 0.01470652, 0.01470755, ..., 0.01470723, 0.01470679,\n",
       "        0.01470659],\n",
       "       [0.0172441 , 0.0172433 , 0.01724346, ..., 0.01724468, 0.01724358,\n",
       "        0.01724454],\n",
       "       [0.01136432, 0.0113641 , 0.01136472, ..., 0.01136439, 0.01136423,\n",
       "        0.01136412]])"
      ]
     },
     "execution_count": 5,
     "metadata": {},
     "output_type": "execute_result"
    }
   ],
   "source": [
    "lda_array"
   ]
  },
  {
   "cell_type": "code",
   "execution_count": 24,
   "metadata": {},
   "outputs": [
    {
     "data": {
      "text/plain": [
       "(4776, 8)"
      ]
     },
     "execution_count": 24,
     "metadata": {},
     "output_type": "execute_result"
    }
   ],
   "source": [
    "lda_array.shape"
   ]
  },
  {
   "cell_type": "code",
   "execution_count": 25,
   "metadata": {},
   "outputs": [],
   "source": [
    "cosine_sim = cosine_similarity(lda_array)"
   ]
  },
  {
   "cell_type": "code",
   "execution_count": 26,
   "metadata": {},
   "outputs": [
    {
     "data": {
      "text/plain": [
       "(4776, 4776)"
      ]
     },
     "execution_count": 26,
     "metadata": {},
     "output_type": "execute_result"
    }
   ],
   "source": [
    "cosine_sim.shape"
   ]
  },
  {
   "cell_type": "code",
   "execution_count": 9,
   "metadata": {},
   "outputs": [
    {
     "data": {
      "text/html": [
       "<div>\n",
       "<style scoped>\n",
       "    .dataframe tbody tr th:only-of-type {\n",
       "        vertical-align: middle;\n",
       "    }\n",
       "\n",
       "    .dataframe tbody tr th {\n",
       "        vertical-align: top;\n",
       "    }\n",
       "\n",
       "    .dataframe thead th {\n",
       "        text-align: right;\n",
       "    }\n",
       "</style>\n",
       "<table border=\"1\" class=\"dataframe\">\n",
       "  <thead>\n",
       "    <tr style=\"text-align: right;\">\n",
       "      <th></th>\n",
       "      <th>Chip Truck Fries</th>\n",
       "      <th>Irish Bacon And Cabbage Soup</th>\n",
       "      <th>Quick Salmon Salad</th>\n",
       "      <th>Bills Seasoned Ketchup</th>\n",
       "      <th>Celery Salad</th>\n",
       "      <th>Jens Heavenly Egg Salad</th>\n",
       "      <th>Black Bean And Corn Quesadillas</th>\n",
       "      <th>Mimis Zucchini Pie</th>\n",
       "      <th>Tomato Mint Quinoa Salad</th>\n",
       "      <th>Nutty Brown Rice Salad</th>\n",
       "      <th>...</th>\n",
       "      <th>Urban Legend Chocolate Chip Cookies</th>\n",
       "      <th>Monster Cookies Ii</th>\n",
       "      <th>Anzac Biscuits I</th>\n",
       "      <th>No Bake Cookies I</th>\n",
       "      <th>Megans Granola</th>\n",
       "      <th>No Bake Choco Peanut Oatmeal Cookies</th>\n",
       "      <th>Maine Venison Stew</th>\n",
       "      <th>Buttertart Squares</th>\n",
       "      <th>Japanese Sushi Rice</th>\n",
       "      <th>Oatmeal Chocolate Chip Cookies I</th>\n",
       "    </tr>\n",
       "  </thead>\n",
       "  <tbody>\n",
       "    <tr>\n",
       "      <th>Chip Truck Fries</th>\n",
       "      <td>1.000000</td>\n",
       "      <td>0.379111</td>\n",
       "      <td>0.055241</td>\n",
       "      <td>0.055239</td>\n",
       "      <td>0.588063</td>\n",
       "      <td>0.281271</td>\n",
       "      <td>0.052953</td>\n",
       "      <td>0.036981</td>\n",
       "      <td>0.033266</td>\n",
       "      <td>0.045826</td>\n",
       "      <td>...</td>\n",
       "      <td>0.033260</td>\n",
       "      <td>0.033260</td>\n",
       "      <td>0.071229</td>\n",
       "      <td>0.083368</td>\n",
       "      <td>0.050412</td>\n",
       "      <td>0.106832</td>\n",
       "      <td>0.046982</td>\n",
       "      <td>0.058823</td>\n",
       "      <td>0.063820</td>\n",
       "      <td>0.052525</td>\n",
       "    </tr>\n",
       "    <tr>\n",
       "      <th>Irish Bacon And Cabbage Soup</th>\n",
       "      <td>0.379111</td>\n",
       "      <td>1.000000</td>\n",
       "      <td>0.035679</td>\n",
       "      <td>0.035688</td>\n",
       "      <td>0.542467</td>\n",
       "      <td>0.247154</td>\n",
       "      <td>0.703192</td>\n",
       "      <td>0.016775</td>\n",
       "      <td>0.827765</td>\n",
       "      <td>0.450614</td>\n",
       "      <td>...</td>\n",
       "      <td>0.015089</td>\n",
       "      <td>0.015089</td>\n",
       "      <td>0.050672</td>\n",
       "      <td>0.062061</td>\n",
       "      <td>0.031155</td>\n",
       "      <td>0.084098</td>\n",
       "      <td>0.021319</td>\n",
       "      <td>0.039039</td>\n",
       "      <td>0.043723</td>\n",
       "      <td>0.033135</td>\n",
       "    </tr>\n",
       "    <tr>\n",
       "      <th>Quick Salmon Salad</th>\n",
       "      <td>0.055241</td>\n",
       "      <td>0.035679</td>\n",
       "      <td>1.000000</td>\n",
       "      <td>0.029329</td>\n",
       "      <td>0.017406</td>\n",
       "      <td>0.931289</td>\n",
       "      <td>0.022410</td>\n",
       "      <td>0.015649</td>\n",
       "      <td>0.014078</td>\n",
       "      <td>0.019392</td>\n",
       "      <td>...</td>\n",
       "      <td>0.014076</td>\n",
       "      <td>0.014076</td>\n",
       "      <td>0.040428</td>\n",
       "      <td>0.048868</td>\n",
       "      <td>0.025975</td>\n",
       "      <td>0.065191</td>\n",
       "      <td>0.019885</td>\n",
       "      <td>0.031815</td>\n",
       "      <td>0.035282</td>\n",
       "      <td>0.027442</td>\n",
       "    </tr>\n",
       "    <tr>\n",
       "      <th>Bills Seasoned Ketchup</th>\n",
       "      <td>0.055239</td>\n",
       "      <td>0.035688</td>\n",
       "      <td>0.029329</td>\n",
       "      <td>1.000000</td>\n",
       "      <td>0.017407</td>\n",
       "      <td>0.045081</td>\n",
       "      <td>0.022416</td>\n",
       "      <td>0.015653</td>\n",
       "      <td>0.014082</td>\n",
       "      <td>0.019398</td>\n",
       "      <td>...</td>\n",
       "      <td>0.014079</td>\n",
       "      <td>0.014079</td>\n",
       "      <td>0.040432</td>\n",
       "      <td>0.048863</td>\n",
       "      <td>0.025978</td>\n",
       "      <td>0.065175</td>\n",
       "      <td>0.682682</td>\n",
       "      <td>0.031817</td>\n",
       "      <td>0.035286</td>\n",
       "      <td>0.027445</td>\n",
       "    </tr>\n",
       "    <tr>\n",
       "      <th>Celery Salad</th>\n",
       "      <td>0.588063</td>\n",
       "      <td>0.542467</td>\n",
       "      <td>0.017406</td>\n",
       "      <td>0.017407</td>\n",
       "      <td>1.000000</td>\n",
       "      <td>0.368576</td>\n",
       "      <td>0.000000</td>\n",
       "      <td>0.272725</td>\n",
       "      <td>0.000000</td>\n",
       "      <td>0.233108</td>\n",
       "      <td>...</td>\n",
       "      <td>0.000000</td>\n",
       "      <td>0.000000</td>\n",
       "      <td>0.030091</td>\n",
       "      <td>0.039734</td>\n",
       "      <td>0.013580</td>\n",
       "      <td>0.058408</td>\n",
       "      <td>0.000000</td>\n",
       "      <td>0.020248</td>\n",
       "      <td>0.024210</td>\n",
       "      <td>0.015254</td>\n",
       "    </tr>\n",
       "  </tbody>\n",
       "</table>\n",
       "<p>5 rows × 4776 columns</p>\n",
       "</div>"
      ],
      "text/plain": [
       "                              Chip Truck Fries  Irish Bacon And Cabbage Soup  \\\n",
       "Chip Truck Fries                      1.000000                      0.379111   \n",
       "Irish Bacon And Cabbage Soup          0.379111                      1.000000   \n",
       "Quick Salmon Salad                    0.055241                      0.035679   \n",
       "Bills Seasoned Ketchup                0.055239                      0.035688   \n",
       "Celery Salad                          0.588063                      0.542467   \n",
       "\n",
       "                              Quick Salmon Salad  Bills Seasoned Ketchup  \\\n",
       "Chip Truck Fries                        0.055241                0.055239   \n",
       "Irish Bacon And Cabbage Soup            0.035679                0.035688   \n",
       "Quick Salmon Salad                      1.000000                0.029329   \n",
       "Bills Seasoned Ketchup                  0.029329                1.000000   \n",
       "Celery Salad                            0.017406                0.017407   \n",
       "\n",
       "                              Celery Salad  Jens Heavenly Egg Salad  \\\n",
       "Chip Truck Fries                  0.588063                 0.281271   \n",
       "Irish Bacon And Cabbage Soup      0.542467                 0.247154   \n",
       "Quick Salmon Salad                0.017406                 0.931289   \n",
       "Bills Seasoned Ketchup            0.017407                 0.045081   \n",
       "Celery Salad                      1.000000                 0.368576   \n",
       "\n",
       "                              Black Bean And Corn Quesadillas  \\\n",
       "Chip Truck Fries                                     0.052953   \n",
       "Irish Bacon And Cabbage Soup                         0.703192   \n",
       "Quick Salmon Salad                                   0.022410   \n",
       "Bills Seasoned Ketchup                               0.022416   \n",
       "Celery Salad                                         0.000000   \n",
       "\n",
       "                              Mimis Zucchini Pie  Tomato Mint Quinoa Salad  \\\n",
       "Chip Truck Fries                        0.036981                  0.033266   \n",
       "Irish Bacon And Cabbage Soup            0.016775                  0.827765   \n",
       "Quick Salmon Salad                      0.015649                  0.014078   \n",
       "Bills Seasoned Ketchup                  0.015653                  0.014082   \n",
       "Celery Salad                            0.272725                  0.000000   \n",
       "\n",
       "                              Nutty Brown Rice Salad  ...  \\\n",
       "Chip Truck Fries                            0.045826  ...   \n",
       "Irish Bacon And Cabbage Soup                0.450614  ...   \n",
       "Quick Salmon Salad                          0.019392  ...   \n",
       "Bills Seasoned Ketchup                      0.019398  ...   \n",
       "Celery Salad                                0.233108  ...   \n",
       "\n",
       "                              Urban Legend Chocolate Chip Cookies  \\\n",
       "Chip Truck Fries                                         0.033260   \n",
       "Irish Bacon And Cabbage Soup                             0.015089   \n",
       "Quick Salmon Salad                                       0.014076   \n",
       "Bills Seasoned Ketchup                                   0.014079   \n",
       "Celery Salad                                             0.000000   \n",
       "\n",
       "                              Monster Cookies Ii  Anzac Biscuits I  \\\n",
       "Chip Truck Fries                        0.033260          0.071229   \n",
       "Irish Bacon And Cabbage Soup            0.015089          0.050672   \n",
       "Quick Salmon Salad                      0.014076          0.040428   \n",
       "Bills Seasoned Ketchup                  0.014079          0.040432   \n",
       "Celery Salad                            0.000000          0.030091   \n",
       "\n",
       "                              No Bake Cookies I  Megans Granola  \\\n",
       "Chip Truck Fries                       0.083368        0.050412   \n",
       "Irish Bacon And Cabbage Soup           0.062061        0.031155   \n",
       "Quick Salmon Salad                     0.048868        0.025975   \n",
       "Bills Seasoned Ketchup                 0.048863        0.025978   \n",
       "Celery Salad                           0.039734        0.013580   \n",
       "\n",
       "                              No Bake Choco Peanut Oatmeal Cookies  \\\n",
       "Chip Truck Fries                                          0.106832   \n",
       "Irish Bacon And Cabbage Soup                              0.084098   \n",
       "Quick Salmon Salad                                        0.065191   \n",
       "Bills Seasoned Ketchup                                    0.065175   \n",
       "Celery Salad                                              0.058408   \n",
       "\n",
       "                              Maine Venison Stew  Buttertart Squares  \\\n",
       "Chip Truck Fries                        0.046982            0.058823   \n",
       "Irish Bacon And Cabbage Soup            0.021319            0.039039   \n",
       "Quick Salmon Salad                      0.019885            0.031815   \n",
       "Bills Seasoned Ketchup                  0.682682            0.031817   \n",
       "Celery Salad                            0.000000            0.020248   \n",
       "\n",
       "                              Japanese Sushi Rice  \\\n",
       "Chip Truck Fries                         0.063820   \n",
       "Irish Bacon And Cabbage Soup             0.043723   \n",
       "Quick Salmon Salad                       0.035282   \n",
       "Bills Seasoned Ketchup                   0.035286   \n",
       "Celery Salad                             0.024210   \n",
       "\n",
       "                              Oatmeal Chocolate Chip Cookies I  \n",
       "Chip Truck Fries                                      0.052525  \n",
       "Irish Bacon And Cabbage Soup                          0.033135  \n",
       "Quick Salmon Salad                                    0.027442  \n",
       "Bills Seasoned Ketchup                                0.027445  \n",
       "Celery Salad                                          0.015254  \n",
       "\n",
       "[5 rows x 4776 columns]"
      ]
     },
     "execution_count": 9,
     "metadata": {},
     "output_type": "execute_result"
    }
   ],
   "source": [
    "\n",
    "df_sim = pd.DataFrame(data=cosine_sim, \n",
    "                      index=lda_matrix.index.tolist(), \n",
    "                      columns=lda_matrix.index.tolist())\n",
    "df_sim.head()"
   ]
  },
  {
   "cell_type": "code",
   "execution_count": 27,
   "metadata": {},
   "outputs": [],
   "source": [
    "indices = pd.Series(lda_matrix.index)"
   ]
  },
  {
   "cell_type": "code",
   "execution_count": 28,
   "metadata": {},
   "outputs": [],
   "source": [
    "def recommender(title, df=lda_matrix, cosine_sim=cosine_sim, top_n=10):\n",
    "    top_recipes = []\n",
    "    idx = indices[indices == title].index[0]\n",
    "    score_series = pd.Series(cosine_sim[idx]).sort_values(ascending=False)\n",
    "    top_idx = score_series.iloc[1:top_n+1].index.tolist()\n",
    "    \n",
    "    for i in top_idx:\n",
    "        top_recipes.append(df.index[i])\n",
    "        \n",
    "    return top_recipes"
   ]
  },
  {
   "cell_type": "code",
   "execution_count": 29,
   "metadata": {},
   "outputs": [
    {
     "ename": "IndexError",
     "evalue": "index 0 is out of bounds for axis 0 with size 0",
     "output_type": "error",
     "traceback": [
      "\u001b[1;31m---------------------------------------------------------------------------\u001b[0m",
      "\u001b[1;31mIndexError\u001b[0m                                Traceback (most recent call last)",
      "\u001b[1;32m<ipython-input-29-2ea3595471c4>\u001b[0m in \u001b[0;36m<module>\u001b[1;34m\u001b[0m\n\u001b[1;32m----> 1\u001b[1;33m \u001b[0mrecommender\u001b[0m\u001b[1;33m(\u001b[0m\u001b[1;34m'tomato-mint-quinoa-salad'\u001b[0m\u001b[1;33m)\u001b[0m\u001b[1;33m\u001b[0m\u001b[1;33m\u001b[0m\u001b[0m\n\u001b[0m",
      "\u001b[1;32m<ipython-input-28-dd0f231c5a0b>\u001b[0m in \u001b[0;36mrecommender\u001b[1;34m(title, df, cosine_sim, top_n)\u001b[0m\n\u001b[0;32m      1\u001b[0m \u001b[1;32mdef\u001b[0m \u001b[0mrecommender\u001b[0m\u001b[1;33m(\u001b[0m\u001b[0mtitle\u001b[0m\u001b[1;33m,\u001b[0m \u001b[0mdf\u001b[0m\u001b[1;33m=\u001b[0m\u001b[0mlda_matrix\u001b[0m\u001b[1;33m,\u001b[0m \u001b[0mcosine_sim\u001b[0m\u001b[1;33m=\u001b[0m\u001b[0mcosine_sim\u001b[0m\u001b[1;33m,\u001b[0m \u001b[0mtop_n\u001b[0m\u001b[1;33m=\u001b[0m\u001b[1;36m10\u001b[0m\u001b[1;33m)\u001b[0m\u001b[1;33m:\u001b[0m\u001b[1;33m\u001b[0m\u001b[1;33m\u001b[0m\u001b[0m\n\u001b[0;32m      2\u001b[0m     \u001b[0mtop_recipes\u001b[0m \u001b[1;33m=\u001b[0m \u001b[1;33m[\u001b[0m\u001b[1;33m]\u001b[0m\u001b[1;33m\u001b[0m\u001b[1;33m\u001b[0m\u001b[0m\n\u001b[1;32m----> 3\u001b[1;33m     \u001b[0midx\u001b[0m \u001b[1;33m=\u001b[0m \u001b[0mindices\u001b[0m\u001b[1;33m[\u001b[0m\u001b[0mindices\u001b[0m \u001b[1;33m==\u001b[0m \u001b[0mtitle\u001b[0m\u001b[1;33m]\u001b[0m\u001b[1;33m.\u001b[0m\u001b[0mindex\u001b[0m\u001b[1;33m[\u001b[0m\u001b[1;36m0\u001b[0m\u001b[1;33m]\u001b[0m\u001b[1;33m\u001b[0m\u001b[1;33m\u001b[0m\u001b[0m\n\u001b[0m\u001b[0;32m      4\u001b[0m     \u001b[0mscore_series\u001b[0m \u001b[1;33m=\u001b[0m \u001b[0mpd\u001b[0m\u001b[1;33m.\u001b[0m\u001b[0mSeries\u001b[0m\u001b[1;33m(\u001b[0m\u001b[0mcosine_sim\u001b[0m\u001b[1;33m[\u001b[0m\u001b[0midx\u001b[0m\u001b[1;33m]\u001b[0m\u001b[1;33m)\u001b[0m\u001b[1;33m.\u001b[0m\u001b[0msort_values\u001b[0m\u001b[1;33m(\u001b[0m\u001b[0mascending\u001b[0m\u001b[1;33m=\u001b[0m\u001b[1;32mFalse\u001b[0m\u001b[1;33m)\u001b[0m\u001b[1;33m\u001b[0m\u001b[1;33m\u001b[0m\u001b[0m\n\u001b[0;32m      5\u001b[0m     \u001b[0mtop_idx\u001b[0m \u001b[1;33m=\u001b[0m \u001b[0mscore_series\u001b[0m\u001b[1;33m.\u001b[0m\u001b[0miloc\u001b[0m\u001b[1;33m[\u001b[0m\u001b[1;36m1\u001b[0m\u001b[1;33m:\u001b[0m\u001b[0mtop_n\u001b[0m\u001b[1;33m+\u001b[0m\u001b[1;36m1\u001b[0m\u001b[1;33m]\u001b[0m\u001b[1;33m.\u001b[0m\u001b[0mindex\u001b[0m\u001b[1;33m.\u001b[0m\u001b[0mtolist\u001b[0m\u001b[1;33m(\u001b[0m\u001b[1;33m)\u001b[0m\u001b[1;33m\u001b[0m\u001b[1;33m\u001b[0m\u001b[0m\n",
      "\u001b[1;32m~\\anaconda3\\lib\\site-packages\\pandas\\core\\indexes\\base.py\u001b[0m in \u001b[0;36m__getitem__\u001b[1;34m(self, key)\u001b[0m\n\u001b[0;32m   3928\u001b[0m         \u001b[1;32mif\u001b[0m \u001b[0mis_scalar\u001b[0m\u001b[1;33m(\u001b[0m\u001b[0mkey\u001b[0m\u001b[1;33m)\u001b[0m\u001b[1;33m:\u001b[0m\u001b[1;33m\u001b[0m\u001b[1;33m\u001b[0m\u001b[0m\n\u001b[0;32m   3929\u001b[0m             \u001b[0mkey\u001b[0m \u001b[1;33m=\u001b[0m \u001b[0mcom\u001b[0m\u001b[1;33m.\u001b[0m\u001b[0mcast_scalar_indexer\u001b[0m\u001b[1;33m(\u001b[0m\u001b[0mkey\u001b[0m\u001b[1;33m)\u001b[0m\u001b[1;33m\u001b[0m\u001b[1;33m\u001b[0m\u001b[0m\n\u001b[1;32m-> 3930\u001b[1;33m             \u001b[1;32mreturn\u001b[0m \u001b[0mgetitem\u001b[0m\u001b[1;33m(\u001b[0m\u001b[0mkey\u001b[0m\u001b[1;33m)\u001b[0m\u001b[1;33m\u001b[0m\u001b[1;33m\u001b[0m\u001b[0m\n\u001b[0m\u001b[0;32m   3931\u001b[0m \u001b[1;33m\u001b[0m\u001b[0m\n\u001b[0;32m   3932\u001b[0m         \u001b[1;32mif\u001b[0m \u001b[0misinstance\u001b[0m\u001b[1;33m(\u001b[0m\u001b[0mkey\u001b[0m\u001b[1;33m,\u001b[0m \u001b[0mslice\u001b[0m\u001b[1;33m)\u001b[0m\u001b[1;33m:\u001b[0m\u001b[1;33m\u001b[0m\u001b[1;33m\u001b[0m\u001b[0m\n",
      "\u001b[1;31mIndexError\u001b[0m: index 0 is out of bounds for axis 0 with size 0"
     ]
    }
   ],
   "source": [
    "recommender('tomato-mint-quinoa-salad')"
   ]
  },
  {
   "cell_type": "code",
   "execution_count": 20,
   "metadata": {},
   "outputs": [
    {
     "data": {
      "text/plain": [
       "['Oatmeal Chocolate Coconut Chewy',\n",
       " 'Passion Bars',\n",
       " 'Mrs Fields Cookie Recipe Ii',\n",
       " 'Chocolate Revel Bars',\n",
       " 'Oatmeal Whoopie Pies',\n",
       " 'Danish Spiced Rye Bread Sigtebrod',\n",
       " 'October Oatmeal Pumpkin Muffins',\n",
       " 'Cream Cheese Fruit Salad',\n",
       " 'Pretzel Bread',\n",
       " 'Chewy Oatmeal Cookies I']"
      ]
     },
     "execution_count": 20,
     "metadata": {},
     "output_type": "execute_result"
    }
   ],
   "source": [
    "recommender('Bread Machine Swedish Coffee Bread')"
   ]
  },
  {
   "cell_type": "code",
   "execution_count": null,
   "metadata": {},
   "outputs": [],
   "source": []
  }
 ],
 "metadata": {
  "kernelspec": {
   "display_name": "Python 3",
   "language": "python",
   "name": "python3"
  },
  "language_info": {
   "codemirror_mode": {
    "name": "ipython",
    "version": 3
   },
   "file_extension": ".py",
   "mimetype": "text/x-python",
   "name": "python",
   "nbconvert_exporter": "python",
   "pygments_lexer": "ipython3",
   "version": "3.7.6"
  }
 },
 "nbformat": 4,
 "nbformat_minor": 4
}
