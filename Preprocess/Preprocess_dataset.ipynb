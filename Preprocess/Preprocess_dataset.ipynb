{
 "cells": [
  {
   "cell_type": "code",
   "execution_count": 1,
   "metadata": {},
   "outputs": [],
   "source": [
    "import pandas as pd"
   ]
  },
  {
   "cell_type": "code",
   "execution_count": 2,
   "metadata": {},
   "outputs": [],
   "source": [
    "import numpy as np"
   ]
  },
  {
   "cell_type": "code",
   "execution_count": 3,
   "metadata": {},
   "outputs": [
    {
     "data": {
      "text/html": [
       "<div>\n",
       "<style scoped>\n",
       "    .dataframe tbody tr th:only-of-type {\n",
       "        vertical-align: middle;\n",
       "    }\n",
       "\n",
       "    .dataframe tbody tr th {\n",
       "        vertical-align: top;\n",
       "    }\n",
       "\n",
       "    .dataframe thead th {\n",
       "        text-align: right;\n",
       "    }\n",
       "</style>\n",
       "<table border=\"1\" class=\"dataframe\">\n",
       "  <thead>\n",
       "    <tr style=\"text-align: right;\">\n",
       "      <th></th>\n",
       "      <th>link</th>\n",
       "      <th>title</th>\n",
       "      <th>ratings</th>\n",
       "      <th>num_reviews</th>\n",
       "      <th>ingredients</th>\n",
       "      <th>servings</th>\n",
       "      <th>cook_time</th>\n",
       "      <th>calorie</th>\n",
       "      <th>fat_g</th>\n",
       "      <th>carb_g</th>\n",
       "      <th>protein_g</th>\n",
       "      <th>cholesterol_mg</th>\n",
       "      <th>sodium_mg</th>\n",
       "    </tr>\n",
       "  </thead>\n",
       "  <tbody>\n",
       "    <tr>\n",
       "      <th>0</th>\n",
       "      <td>https://www.allrecipes.com/recipe/100164/chip-...</td>\n",
       "      <td>chip-truck-fries</td>\n",
       "      <td>4.4375</td>\n",
       "      <td>44 reviews</td>\n",
       "      <td>['6 baking potatoes, cut into 1/4 inch slices'...</td>\n",
       "      <td>4.0</td>\n",
       "      <td>1 h</td>\n",
       "      <td>369 calories;</td>\n",
       "      <td>14.0</td>\n",
       "      <td>56.3</td>\n",
       "      <td>6.5</td>\n",
       "      <td>0</td>\n",
       "      <td>478.0</td>\n",
       "    </tr>\n",
       "  </tbody>\n",
       "</table>\n",
       "</div>"
      ],
      "text/plain": [
       "                                                link             title  \\\n",
       "0  https://www.allrecipes.com/recipe/100164/chip-...  chip-truck-fries   \n",
       "\n",
       "   ratings num_reviews                                        ingredients  \\\n",
       "0   4.4375  44 reviews  ['6 baking potatoes, cut into 1/4 inch slices'...   \n",
       "\n",
       "   servings cook_time        calorie  fat_g  carb_g  protein_g cholesterol_mg  \\\n",
       "0       4.0       1 h  369 calories;   14.0    56.3        6.5              0   \n",
       "\n",
       "  sodium_mg  \n",
       "0     478.0  "
      ]
     },
     "execution_count": 3,
     "metadata": {},
     "output_type": "execute_result"
    }
   ],
   "source": [
    "df = pd.read_csv('food_recipes.csv')\n",
    "df.head(1)"
   ]
  },
  {
   "cell_type": "code",
   "execution_count": 4,
   "metadata": {},
   "outputs": [
    {
     "data": {
      "text/plain": [
       "(5921, 13)"
      ]
     },
     "execution_count": 4,
     "metadata": {},
     "output_type": "execute_result"
    }
   ],
   "source": [
    "df.shape"
   ]
  },
  {
   "cell_type": "code",
   "execution_count": 5,
   "metadata": {},
   "outputs": [
    {
     "data": {
      "text/html": [
       "<div>\n",
       "<style scoped>\n",
       "    .dataframe tbody tr th:only-of-type {\n",
       "        vertical-align: middle;\n",
       "    }\n",
       "\n",
       "    .dataframe tbody tr th {\n",
       "        vertical-align: top;\n",
       "    }\n",
       "\n",
       "    .dataframe thead th {\n",
       "        text-align: right;\n",
       "    }\n",
       "</style>\n",
       "<table border=\"1\" class=\"dataframe\">\n",
       "  <thead>\n",
       "    <tr style=\"text-align: right;\">\n",
       "      <th></th>\n",
       "      <th>link</th>\n",
       "      <th>title</th>\n",
       "      <th>ratings</th>\n",
       "      <th>num_reviews</th>\n",
       "      <th>ingredients</th>\n",
       "      <th>servings</th>\n",
       "      <th>cook_time</th>\n",
       "      <th>calorie</th>\n",
       "      <th>fat_g</th>\n",
       "      <th>carb_g</th>\n",
       "      <th>protein_g</th>\n",
       "      <th>cholesterol_mg</th>\n",
       "      <th>sodium_mg</th>\n",
       "    </tr>\n",
       "  </thead>\n",
       "  <tbody>\n",
       "    <tr>\n",
       "      <th>3</th>\n",
       "      <td>https://www.allrecipes.com/recipe/100546/japan...</td>\n",
       "      <td>japanese-tofu-salad</td>\n",
       "      <td>NaN</td>\n",
       "      <td>NaN</td>\n",
       "      <td>[]</td>\n",
       "      <td>NaN</td>\n",
       "      <td>NaN</td>\n",
       "      <td>NaN</td>\n",
       "      <td>NaN</td>\n",
       "      <td>NaN</td>\n",
       "      <td>NaN</td>\n",
       "      <td>NaN</td>\n",
       "      <td>NaN</td>\n",
       "    </tr>\n",
       "    <tr>\n",
       "      <th>4</th>\n",
       "      <td>https://www.allrecipes.com/recipe/100593/chick...</td>\n",
       "      <td>chicken-noodle-salad-with-peanut-ginger-dressing</td>\n",
       "      <td>NaN</td>\n",
       "      <td>NaN</td>\n",
       "      <td>[]</td>\n",
       "      <td>NaN</td>\n",
       "      <td>NaN</td>\n",
       "      <td>NaN</td>\n",
       "      <td>NaN</td>\n",
       "      <td>NaN</td>\n",
       "      <td>NaN</td>\n",
       "      <td>NaN</td>\n",
       "      <td>NaN</td>\n",
       "    </tr>\n",
       "    <tr>\n",
       "      <th>5</th>\n",
       "      <td>https://www.allrecipes.com/recipe/100612/chedd...</td>\n",
       "      <td>cheddar-baby-leek-and-tomato-sandwich</td>\n",
       "      <td>NaN</td>\n",
       "      <td>NaN</td>\n",
       "      <td>[]</td>\n",
       "      <td>NaN</td>\n",
       "      <td>NaN</td>\n",
       "      <td>NaN</td>\n",
       "      <td>NaN</td>\n",
       "      <td>NaN</td>\n",
       "      <td>NaN</td>\n",
       "      <td>NaN</td>\n",
       "      <td>NaN</td>\n",
       "    </tr>\n",
       "    <tr>\n",
       "      <th>14</th>\n",
       "      <td>https://www.allrecipes.com/recipe/106381/asian...</td>\n",
       "      <td>asian-pasta-salad-with-beef-broccoli-and-bean-...</td>\n",
       "      <td>NaN</td>\n",
       "      <td>NaN</td>\n",
       "      <td>[]</td>\n",
       "      <td>NaN</td>\n",
       "      <td>NaN</td>\n",
       "      <td>NaN</td>\n",
       "      <td>NaN</td>\n",
       "      <td>NaN</td>\n",
       "      <td>NaN</td>\n",
       "      <td>NaN</td>\n",
       "      <td>NaN</td>\n",
       "    </tr>\n",
       "    <tr>\n",
       "      <th>15</th>\n",
       "      <td>https://www.allrecipes.com/recipe/106515/peruv...</td>\n",
       "      <td>peruvian-chicken-soup-aguadito-de-pollo</td>\n",
       "      <td>NaN</td>\n",
       "      <td>NaN</td>\n",
       "      <td>[]</td>\n",
       "      <td>NaN</td>\n",
       "      <td>NaN</td>\n",
       "      <td>NaN</td>\n",
       "      <td>NaN</td>\n",
       "      <td>NaN</td>\n",
       "      <td>NaN</td>\n",
       "      <td>NaN</td>\n",
       "      <td>NaN</td>\n",
       "    </tr>\n",
       "    <tr>\n",
       "      <th>...</th>\n",
       "      <td>...</td>\n",
       "      <td>...</td>\n",
       "      <td>...</td>\n",
       "      <td>...</td>\n",
       "      <td>...</td>\n",
       "      <td>...</td>\n",
       "      <td>...</td>\n",
       "      <td>...</td>\n",
       "      <td>...</td>\n",
       "      <td>...</td>\n",
       "      <td>...</td>\n",
       "      <td>...</td>\n",
       "      <td>...</td>\n",
       "    </tr>\n",
       "    <tr>\n",
       "      <th>5855</th>\n",
       "      <td>https://www.allrecipes.com/recipe/90481/chicke...</td>\n",
       "      <td>chicken-with-asparagus-and-roasted-red-peppers</td>\n",
       "      <td>NaN</td>\n",
       "      <td>NaN</td>\n",
       "      <td>[]</td>\n",
       "      <td>NaN</td>\n",
       "      <td>NaN</td>\n",
       "      <td>NaN</td>\n",
       "      <td>NaN</td>\n",
       "      <td>NaN</td>\n",
       "      <td>NaN</td>\n",
       "      <td>NaN</td>\n",
       "      <td>NaN</td>\n",
       "    </tr>\n",
       "    <tr>\n",
       "      <th>5857</th>\n",
       "      <td>https://www.allrecipes.com/recipe/90544/chicke...</td>\n",
       "      <td>chicken-wing-dip</td>\n",
       "      <td>NaN</td>\n",
       "      <td>NaN</td>\n",
       "      <td>[]</td>\n",
       "      <td>NaN</td>\n",
       "      <td>NaN</td>\n",
       "      <td>NaN</td>\n",
       "      <td>NaN</td>\n",
       "      <td>NaN</td>\n",
       "      <td>NaN</td>\n",
       "      <td>NaN</td>\n",
       "      <td>NaN</td>\n",
       "    </tr>\n",
       "    <tr>\n",
       "      <th>5858</th>\n",
       "      <td>https://www.allrecipes.com/recipe/9059/broccol...</td>\n",
       "      <td>broccoli-chicken-fettuccini-alfredo</td>\n",
       "      <td>NaN</td>\n",
       "      <td>NaN</td>\n",
       "      <td>[]</td>\n",
       "      <td>NaN</td>\n",
       "      <td>NaN</td>\n",
       "      <td>NaN</td>\n",
       "      <td>NaN</td>\n",
       "      <td>NaN</td>\n",
       "      <td>NaN</td>\n",
       "      <td>NaN</td>\n",
       "      <td>NaN</td>\n",
       "    </tr>\n",
       "    <tr>\n",
       "      <th>5907</th>\n",
       "      <td>https://www.allrecipes.com/recipe/97058/chines...</td>\n",
       "      <td>chinese-shrimp-and-tofu-soup</td>\n",
       "      <td>NaN</td>\n",
       "      <td>NaN</td>\n",
       "      <td>[]</td>\n",
       "      <td>NaN</td>\n",
       "      <td>NaN</td>\n",
       "      <td>NaN</td>\n",
       "      <td>NaN</td>\n",
       "      <td>NaN</td>\n",
       "      <td>NaN</td>\n",
       "      <td>NaN</td>\n",
       "      <td>NaN</td>\n",
       "    </tr>\n",
       "    <tr>\n",
       "      <th>5917</th>\n",
       "      <td>https://www.allrecipes.com/recipe/98799/south-...</td>\n",
       "      <td>south-african-yellow-rice</td>\n",
       "      <td>NaN</td>\n",
       "      <td>NaN</td>\n",
       "      <td>[]</td>\n",
       "      <td>NaN</td>\n",
       "      <td>NaN</td>\n",
       "      <td>NaN</td>\n",
       "      <td>NaN</td>\n",
       "      <td>NaN</td>\n",
       "      <td>NaN</td>\n",
       "      <td>NaN</td>\n",
       "      <td>NaN</td>\n",
       "    </tr>\n",
       "  </tbody>\n",
       "</table>\n",
       "<p>1130 rows × 13 columns</p>\n",
       "</div>"
      ],
      "text/plain": [
       "                                                   link  \\\n",
       "3     https://www.allrecipes.com/recipe/100546/japan...   \n",
       "4     https://www.allrecipes.com/recipe/100593/chick...   \n",
       "5     https://www.allrecipes.com/recipe/100612/chedd...   \n",
       "14    https://www.allrecipes.com/recipe/106381/asian...   \n",
       "15    https://www.allrecipes.com/recipe/106515/peruv...   \n",
       "...                                                 ...   \n",
       "5855  https://www.allrecipes.com/recipe/90481/chicke...   \n",
       "5857  https://www.allrecipes.com/recipe/90544/chicke...   \n",
       "5858  https://www.allrecipes.com/recipe/9059/broccol...   \n",
       "5907  https://www.allrecipes.com/recipe/97058/chines...   \n",
       "5917  https://www.allrecipes.com/recipe/98799/south-...   \n",
       "\n",
       "                                                  title  ratings num_reviews  \\\n",
       "3                                   japanese-tofu-salad      NaN         NaN   \n",
       "4      chicken-noodle-salad-with-peanut-ginger-dressing      NaN         NaN   \n",
       "5                 cheddar-baby-leek-and-tomato-sandwich      NaN         NaN   \n",
       "14    asian-pasta-salad-with-beef-broccoli-and-bean-...      NaN         NaN   \n",
       "15              peruvian-chicken-soup-aguadito-de-pollo      NaN         NaN   \n",
       "...                                                 ...      ...         ...   \n",
       "5855     chicken-with-asparagus-and-roasted-red-peppers      NaN         NaN   \n",
       "5857                                   chicken-wing-dip      NaN         NaN   \n",
       "5858                broccoli-chicken-fettuccini-alfredo      NaN         NaN   \n",
       "5907                       chinese-shrimp-and-tofu-soup      NaN         NaN   \n",
       "5917                          south-african-yellow-rice      NaN         NaN   \n",
       "\n",
       "     ingredients  servings cook_time calorie  fat_g  carb_g  protein_g  \\\n",
       "3             []       NaN       NaN     NaN    NaN     NaN        NaN   \n",
       "4             []       NaN       NaN     NaN    NaN     NaN        NaN   \n",
       "5             []       NaN       NaN     NaN    NaN     NaN        NaN   \n",
       "14            []       NaN       NaN     NaN    NaN     NaN        NaN   \n",
       "15            []       NaN       NaN     NaN    NaN     NaN        NaN   \n",
       "...          ...       ...       ...     ...    ...     ...        ...   \n",
       "5855          []       NaN       NaN     NaN    NaN     NaN        NaN   \n",
       "5857          []       NaN       NaN     NaN    NaN     NaN        NaN   \n",
       "5858          []       NaN       NaN     NaN    NaN     NaN        NaN   \n",
       "5907          []       NaN       NaN     NaN    NaN     NaN        NaN   \n",
       "5917          []       NaN       NaN     NaN    NaN     NaN        NaN   \n",
       "\n",
       "     cholesterol_mg sodium_mg  \n",
       "3               NaN       NaN  \n",
       "4               NaN       NaN  \n",
       "5               NaN       NaN  \n",
       "14              NaN       NaN  \n",
       "15              NaN       NaN  \n",
       "...             ...       ...  \n",
       "5855            NaN       NaN  \n",
       "5857            NaN       NaN  \n",
       "5858            NaN       NaN  \n",
       "5907            NaN       NaN  \n",
       "5917            NaN       NaN  \n",
       "\n",
       "[1130 rows x 13 columns]"
      ]
     },
     "execution_count": 5,
     "metadata": {},
     "output_type": "execute_result"
    }
   ],
   "source": [
    "df[df.ratings.isnull()]"
   ]
  },
  {
   "cell_type": "code",
   "execution_count": 6,
   "metadata": {},
   "outputs": [
    {
     "data": {
      "text/plain": [
       "link                 0\n",
       "title                1\n",
       "ratings           1130\n",
       "num_reviews       1131\n",
       "ingredients          3\n",
       "servings          1131\n",
       "cook_time         1325\n",
       "calorie           1144\n",
       "fat_g             1144\n",
       "carb_g            1144\n",
       "protein_g         1144\n",
       "cholesterol_mg    1144\n",
       "sodium_mg         1144\n",
       "dtype: int64"
      ]
     },
     "execution_count": 6,
     "metadata": {},
     "output_type": "execute_result"
    }
   ],
   "source": [
    "df.isnull().sum()"
   ]
  },
  {
   "cell_type": "code",
   "execution_count": 7,
   "metadata": {},
   "outputs": [],
   "source": [
    "drop_val = df[df.ratings.isnull()].index.tolist()"
   ]
  },
  {
   "cell_type": "code",
   "execution_count": 8,
   "metadata": {},
   "outputs": [],
   "source": [
    "df.drop(drop_val, inplace=True)"
   ]
  },
  {
   "cell_type": "code",
   "execution_count": 9,
   "metadata": {},
   "outputs": [
    {
     "data": {
      "text/plain": [
       "(4791, 13)"
      ]
     },
     "execution_count": 9,
     "metadata": {},
     "output_type": "execute_result"
    }
   ],
   "source": [
    "df.shape"
   ]
  },
  {
   "cell_type": "code",
   "execution_count": 10,
   "metadata": {},
   "outputs": [
    {
     "data": {
      "text/html": [
       "<div>\n",
       "<style scoped>\n",
       "    .dataframe tbody tr th:only-of-type {\n",
       "        vertical-align: middle;\n",
       "    }\n",
       "\n",
       "    .dataframe tbody tr th {\n",
       "        vertical-align: top;\n",
       "    }\n",
       "\n",
       "    .dataframe thead th {\n",
       "        text-align: right;\n",
       "    }\n",
       "</style>\n",
       "<table border=\"1\" class=\"dataframe\">\n",
       "  <thead>\n",
       "    <tr style=\"text-align: right;\">\n",
       "      <th></th>\n",
       "      <th>link</th>\n",
       "      <th>title</th>\n",
       "      <th>ratings</th>\n",
       "      <th>num_reviews</th>\n",
       "      <th>ingredients</th>\n",
       "      <th>servings</th>\n",
       "      <th>cook_time</th>\n",
       "      <th>calorie</th>\n",
       "      <th>fat_g</th>\n",
       "      <th>carb_g</th>\n",
       "      <th>protein_g</th>\n",
       "      <th>cholesterol_mg</th>\n",
       "      <th>sodium_mg</th>\n",
       "    </tr>\n",
       "  </thead>\n",
       "  <tbody>\n",
       "    <tr>\n",
       "      <th>413</th>\n",
       "      <td>https://www.allrecipes.com/recipe/215232/black...</td>\n",
       "      <td>black-bean-soup</td>\n",
       "      <td>4.680000</td>\n",
       "      <td>17 reviews</td>\n",
       "      <td>['2 tablespoons Goya Extra Virgin Olive Oil', ...</td>\n",
       "      <td>4.0</td>\n",
       "      <td>35 m</td>\n",
       "      <td>NaN</td>\n",
       "      <td>NaN</td>\n",
       "      <td>NaN</td>\n",
       "      <td>NaN</td>\n",
       "      <td>NaN</td>\n",
       "      <td>NaN</td>\n",
       "    </tr>\n",
       "    <tr>\n",
       "      <th>414</th>\n",
       "      <td>https://www.allrecipes.com/recipe/215239/easy-...</td>\n",
       "      <td>easy-three-bean-salad</td>\n",
       "      <td>4.411765</td>\n",
       "      <td>13 reviews</td>\n",
       "      <td>['Salad:', '1 (15.5 ounce) can Goya Blackeye P...</td>\n",
       "      <td>8.0</td>\n",
       "      <td>10 m</td>\n",
       "      <td>NaN</td>\n",
       "      <td>NaN</td>\n",
       "      <td>NaN</td>\n",
       "      <td>NaN</td>\n",
       "      <td>NaN</td>\n",
       "      <td>NaN</td>\n",
       "    </tr>\n",
       "    <tr>\n",
       "      <th>602</th>\n",
       "      <td>https://www.allrecipes.com/recipe/222976/medit...</td>\n",
       "      <td>mediterranean-chickpea-salad</td>\n",
       "      <td>4.545455</td>\n",
       "      <td>54 reviews</td>\n",
       "      <td>['1 (15.5 ounce) can GOYA® Low Sodium Chick Pe...</td>\n",
       "      <td>4.0</td>\n",
       "      <td>20 m</td>\n",
       "      <td>NaN</td>\n",
       "      <td>NaN</td>\n",
       "      <td>NaN</td>\n",
       "      <td>NaN</td>\n",
       "      <td>NaN</td>\n",
       "      <td>NaN</td>\n",
       "    </tr>\n",
       "    <tr>\n",
       "      <th>713</th>\n",
       "      <td>https://www.allrecipes.com/recipe/230184/tomat...</td>\n",
       "      <td>tomato-basil-mozzarella-melt</td>\n",
       "      <td>4.769231</td>\n",
       "      <td>10 reviews</td>\n",
       "      <td>[\"6 Sister Schubert's® Mini Baguettes\", '1/2 c...</td>\n",
       "      <td>6.0</td>\n",
       "      <td>31 m</td>\n",
       "      <td>NaN</td>\n",
       "      <td>NaN</td>\n",
       "      <td>NaN</td>\n",
       "      <td>NaN</td>\n",
       "      <td>NaN</td>\n",
       "      <td>NaN</td>\n",
       "    </tr>\n",
       "    <tr>\n",
       "      <th>1375</th>\n",
       "      <td>https://www.allrecipes.com/recipe/14524/wiscon...</td>\n",
       "      <td>wisconsin-bratwurst</td>\n",
       "      <td>4.535181</td>\n",
       "      <td>363 reviews</td>\n",
       "      <td>['2 pounds fresh bratwurst sausages', '2 onion...</td>\n",
       "      <td>10.0</td>\n",
       "      <td>45 m</td>\n",
       "      <td>NaN</td>\n",
       "      <td>NaN</td>\n",
       "      <td>NaN</td>\n",
       "      <td>NaN</td>\n",
       "      <td>NaN</td>\n",
       "      <td>NaN</td>\n",
       "    </tr>\n",
       "    <tr>\n",
       "      <th>1441</th>\n",
       "      <td>https://www.allrecipes.com/recipe/16310/corned...</td>\n",
       "      <td>corned-beef-and-cabbage-i</td>\n",
       "      <td>4.612741</td>\n",
       "      <td>841 reviews</td>\n",
       "      <td>['3 pounds corned beef brisket with spice pack...</td>\n",
       "      <td>5.0</td>\n",
       "      <td>2 h 35 m</td>\n",
       "      <td>NaN</td>\n",
       "      <td>NaN</td>\n",
       "      <td>NaN</td>\n",
       "      <td>NaN</td>\n",
       "      <td>NaN</td>\n",
       "      <td>NaN</td>\n",
       "    </tr>\n",
       "    <tr>\n",
       "      <th>1499</th>\n",
       "      <td>https://www.allrecipes.com/recipe/17407/kabob-...</td>\n",
       "      <td>kabob-marinade</td>\n",
       "      <td>4.719262</td>\n",
       "      <td>355 reviews</td>\n",
       "      <td>['1 cup vegetable oil', '3/4 cup soy sauce', '...</td>\n",
       "      <td>6.0</td>\n",
       "      <td>15 m</td>\n",
       "      <td>NaN</td>\n",
       "      <td>NaN</td>\n",
       "      <td>NaN</td>\n",
       "      <td>NaN</td>\n",
       "      <td>NaN</td>\n",
       "      <td>NaN</td>\n",
       "    </tr>\n",
       "    <tr>\n",
       "      <th>1772</th>\n",
       "      <td>https://www.allrecipes.com/recipe/222978/roast...</td>\n",
       "      <td>roast-adobo-pork-loin</td>\n",
       "      <td>4.726027</td>\n",
       "      <td>174 reviews</td>\n",
       "      <td>['2 tablespoons chili powder', '1 tablespoon G...</td>\n",
       "      <td>4.0</td>\n",
       "      <td>40 m</td>\n",
       "      <td>NaN</td>\n",
       "      <td>NaN</td>\n",
       "      <td>NaN</td>\n",
       "      <td>NaN</td>\n",
       "      <td>NaN</td>\n",
       "      <td>NaN</td>\n",
       "    </tr>\n",
       "    <tr>\n",
       "      <th>2122</th>\n",
       "      <td>https://www.allrecipes.com/recipe/256102/pork-...</td>\n",
       "      <td>pork-osso-buco</td>\n",
       "      <td>4.628572</td>\n",
       "      <td>NaN</td>\n",
       "      <td>['', '', '', '', '', '', '', '', '', '', '', '...</td>\n",
       "      <td>NaN</td>\n",
       "      <td>NaN</td>\n",
       "      <td>NaN</td>\n",
       "      <td>NaN</td>\n",
       "      <td>NaN</td>\n",
       "      <td>NaN</td>\n",
       "      <td>NaN</td>\n",
       "      <td>NaN</td>\n",
       "    </tr>\n",
       "    <tr>\n",
       "      <th>2298</th>\n",
       "      <td>https://www.allrecipes.com/recipe/43655/perfec...</td>\n",
       "      <td>perfect-turkey</td>\n",
       "      <td>4.812646</td>\n",
       "      <td>1k reviews</td>\n",
       "      <td>['1 (18 pound) whole turkey, neck and giblets ...</td>\n",
       "      <td>24.0</td>\n",
       "      <td>17 h</td>\n",
       "      <td>NaN</td>\n",
       "      <td>NaN</td>\n",
       "      <td>NaN</td>\n",
       "      <td>NaN</td>\n",
       "      <td>NaN</td>\n",
       "      <td>NaN</td>\n",
       "    </tr>\n",
       "    <tr>\n",
       "      <th>2335</th>\n",
       "      <td>https://www.allrecipes.com/recipe/50931/grille...</td>\n",
       "      <td>grilled-venison-backstrap</td>\n",
       "      <td>4.814159</td>\n",
       "      <td>294 reviews</td>\n",
       "      <td>['2 pounds venison backstrap, cut into 2-inch ...</td>\n",
       "      <td>4.0</td>\n",
       "      <td>5 h 15 m</td>\n",
       "      <td>NaN</td>\n",
       "      <td>NaN</td>\n",
       "      <td>NaN</td>\n",
       "      <td>NaN</td>\n",
       "      <td>NaN</td>\n",
       "      <td>NaN</td>\n",
       "    </tr>\n",
       "    <tr>\n",
       "      <th>3131</th>\n",
       "      <td>https://www.allrecipes.com/recipe/151593/campb...</td>\n",
       "      <td>campbellsr-tuna-noodle-casserole</td>\n",
       "      <td>4.354667</td>\n",
       "      <td>285 reviews</td>\n",
       "      <td>[\"2 (10.75 ounce) cans Campbell's® Condensed C...</td>\n",
       "      <td>8.0</td>\n",
       "      <td>45 m</td>\n",
       "      <td>NaN</td>\n",
       "      <td>NaN</td>\n",
       "      <td>NaN</td>\n",
       "      <td>NaN</td>\n",
       "      <td>NaN</td>\n",
       "      <td>NaN</td>\n",
       "    </tr>\n",
       "    <tr>\n",
       "      <th>5256</th>\n",
       "      <td>https://www.allrecipes.com/recipe/56708/honey-...</td>\n",
       "      <td>honey-coconut-salmon</td>\n",
       "      <td>4.204545</td>\n",
       "      <td>105 reviews</td>\n",
       "      <td>['1 1/2 cups butter', '3/4 cup honey', '1/4 cu...</td>\n",
       "      <td>4.0</td>\n",
       "      <td>1 h 20 m</td>\n",
       "      <td>NaN</td>\n",
       "      <td>NaN</td>\n",
       "      <td>NaN</td>\n",
       "      <td>NaN</td>\n",
       "      <td>NaN</td>\n",
       "      <td>NaN</td>\n",
       "    </tr>\n",
       "    <tr>\n",
       "      <th>5510</th>\n",
       "      <td>https://www.allrecipes.com/recipe/75431/citrus...</td>\n",
       "      <td>citrus-turkey-brine</td>\n",
       "      <td>4.800000</td>\n",
       "      <td>225 reviews</td>\n",
       "      <td>['1 cup salt', '1 lemon, cut into wedges', '1 ...</td>\n",
       "      <td>15.0</td>\n",
       "      <td>20 m</td>\n",
       "      <td>NaN</td>\n",
       "      <td>NaN</td>\n",
       "      <td>NaN</td>\n",
       "      <td>NaN</td>\n",
       "      <td>NaN</td>\n",
       "      <td>NaN</td>\n",
       "    </tr>\n",
       "  </tbody>\n",
       "</table>\n",
       "</div>"
      ],
      "text/plain": [
       "                                                   link  \\\n",
       "413   https://www.allrecipes.com/recipe/215232/black...   \n",
       "414   https://www.allrecipes.com/recipe/215239/easy-...   \n",
       "602   https://www.allrecipes.com/recipe/222976/medit...   \n",
       "713   https://www.allrecipes.com/recipe/230184/tomat...   \n",
       "1375  https://www.allrecipes.com/recipe/14524/wiscon...   \n",
       "1441  https://www.allrecipes.com/recipe/16310/corned...   \n",
       "1499  https://www.allrecipes.com/recipe/17407/kabob-...   \n",
       "1772  https://www.allrecipes.com/recipe/222978/roast...   \n",
       "2122  https://www.allrecipes.com/recipe/256102/pork-...   \n",
       "2298  https://www.allrecipes.com/recipe/43655/perfec...   \n",
       "2335  https://www.allrecipes.com/recipe/50931/grille...   \n",
       "3131  https://www.allrecipes.com/recipe/151593/campb...   \n",
       "5256  https://www.allrecipes.com/recipe/56708/honey-...   \n",
       "5510  https://www.allrecipes.com/recipe/75431/citrus...   \n",
       "\n",
       "                                 title   ratings  num_reviews  \\\n",
       "413                    black-bean-soup  4.680000   17 reviews   \n",
       "414              easy-three-bean-salad  4.411765   13 reviews   \n",
       "602       mediterranean-chickpea-salad  4.545455   54 reviews   \n",
       "713       tomato-basil-mozzarella-melt  4.769231   10 reviews   \n",
       "1375               wisconsin-bratwurst  4.535181  363 reviews   \n",
       "1441         corned-beef-and-cabbage-i  4.612741  841 reviews   \n",
       "1499                    kabob-marinade  4.719262  355 reviews   \n",
       "1772             roast-adobo-pork-loin  4.726027  174 reviews   \n",
       "2122                    pork-osso-buco  4.628572          NaN   \n",
       "2298                    perfect-turkey  4.812646   1k reviews   \n",
       "2335         grilled-venison-backstrap  4.814159  294 reviews   \n",
       "3131  campbellsr-tuna-noodle-casserole  4.354667  285 reviews   \n",
       "5256              honey-coconut-salmon  4.204545  105 reviews   \n",
       "5510               citrus-turkey-brine  4.800000  225 reviews   \n",
       "\n",
       "                                            ingredients  servings cook_time  \\\n",
       "413   ['2 tablespoons Goya Extra Virgin Olive Oil', ...       4.0      35 m   \n",
       "414   ['Salad:', '1 (15.5 ounce) can Goya Blackeye P...       8.0      10 m   \n",
       "602   ['1 (15.5 ounce) can GOYA® Low Sodium Chick Pe...       4.0      20 m   \n",
       "713   [\"6 Sister Schubert's® Mini Baguettes\", '1/2 c...       6.0      31 m   \n",
       "1375  ['2 pounds fresh bratwurst sausages', '2 onion...      10.0      45 m   \n",
       "1441  ['3 pounds corned beef brisket with spice pack...       5.0  2 h 35 m   \n",
       "1499  ['1 cup vegetable oil', '3/4 cup soy sauce', '...       6.0      15 m   \n",
       "1772  ['2 tablespoons chili powder', '1 tablespoon G...       4.0      40 m   \n",
       "2122  ['', '', '', '', '', '', '', '', '', '', '', '...       NaN       NaN   \n",
       "2298  ['1 (18 pound) whole turkey, neck and giblets ...      24.0      17 h   \n",
       "2335  ['2 pounds venison backstrap, cut into 2-inch ...       4.0  5 h 15 m   \n",
       "3131  [\"2 (10.75 ounce) cans Campbell's® Condensed C...       8.0      45 m   \n",
       "5256  ['1 1/2 cups butter', '3/4 cup honey', '1/4 cu...       4.0  1 h 20 m   \n",
       "5510  ['1 cup salt', '1 lemon, cut into wedges', '1 ...      15.0      20 m   \n",
       "\n",
       "     calorie  fat_g  carb_g  protein_g cholesterol_mg sodium_mg  \n",
       "413      NaN    NaN     NaN        NaN            NaN       NaN  \n",
       "414      NaN    NaN     NaN        NaN            NaN       NaN  \n",
       "602      NaN    NaN     NaN        NaN            NaN       NaN  \n",
       "713      NaN    NaN     NaN        NaN            NaN       NaN  \n",
       "1375     NaN    NaN     NaN        NaN            NaN       NaN  \n",
       "1441     NaN    NaN     NaN        NaN            NaN       NaN  \n",
       "1499     NaN    NaN     NaN        NaN            NaN       NaN  \n",
       "1772     NaN    NaN     NaN        NaN            NaN       NaN  \n",
       "2122     NaN    NaN     NaN        NaN            NaN       NaN  \n",
       "2298     NaN    NaN     NaN        NaN            NaN       NaN  \n",
       "2335     NaN    NaN     NaN        NaN            NaN       NaN  \n",
       "3131     NaN    NaN     NaN        NaN            NaN       NaN  \n",
       "5256     NaN    NaN     NaN        NaN            NaN       NaN  \n",
       "5510     NaN    NaN     NaN        NaN            NaN       NaN  "
      ]
     },
     "execution_count": 10,
     "metadata": {},
     "output_type": "execute_result"
    }
   ],
   "source": [
    "df[df.calorie.isnull()]"
   ]
  },
  {
   "cell_type": "code",
   "execution_count": 11,
   "metadata": {},
   "outputs": [],
   "source": [
    "drop_val = df[df.calorie.isnull()].index.tolist()"
   ]
  },
  {
   "cell_type": "code",
   "execution_count": 12,
   "metadata": {},
   "outputs": [],
   "source": [
    "df.drop(drop_val, inplace=True)"
   ]
  },
  {
   "cell_type": "code",
   "execution_count": 13,
   "metadata": {},
   "outputs": [
    {
     "data": {
      "text/plain": [
       "(4777, 13)"
      ]
     },
     "execution_count": 13,
     "metadata": {},
     "output_type": "execute_result"
    }
   ],
   "source": [
    "df.shape"
   ]
  },
  {
   "cell_type": "code",
   "execution_count": 14,
   "metadata": {},
   "outputs": [
    {
     "data": {
      "text/plain": [
       "link                0\n",
       "title               0\n",
       "ratings             0\n",
       "num_reviews         0\n",
       "ingredients         1\n",
       "servings            0\n",
       "cook_time         194\n",
       "calorie             0\n",
       "fat_g               0\n",
       "carb_g              0\n",
       "protein_g           0\n",
       "cholesterol_mg      0\n",
       "sodium_mg           0\n",
       "dtype: int64"
      ]
     },
     "execution_count": 14,
     "metadata": {},
     "output_type": "execute_result"
    }
   ],
   "source": [
    "df.isnull().sum()"
   ]
  },
  {
   "cell_type": "code",
   "execution_count": 15,
   "metadata": {},
   "outputs": [
    {
     "data": {
      "text/html": [
       "<div>\n",
       "<style scoped>\n",
       "    .dataframe tbody tr th:only-of-type {\n",
       "        vertical-align: middle;\n",
       "    }\n",
       "\n",
       "    .dataframe tbody tr th {\n",
       "        vertical-align: top;\n",
       "    }\n",
       "\n",
       "    .dataframe thead th {\n",
       "        text-align: right;\n",
       "    }\n",
       "</style>\n",
       "<table border=\"1\" class=\"dataframe\">\n",
       "  <thead>\n",
       "    <tr style=\"text-align: right;\">\n",
       "      <th></th>\n",
       "      <th>link</th>\n",
       "      <th>title</th>\n",
       "      <th>ratings</th>\n",
       "      <th>num_reviews</th>\n",
       "      <th>ingredients</th>\n",
       "      <th>servings</th>\n",
       "      <th>cook_time</th>\n",
       "      <th>calorie</th>\n",
       "      <th>fat_g</th>\n",
       "      <th>carb_g</th>\n",
       "      <th>protein_g</th>\n",
       "      <th>cholesterol_mg</th>\n",
       "      <th>sodium_mg</th>\n",
       "    </tr>\n",
       "  </thead>\n",
       "  <tbody>\n",
       "    <tr>\n",
       "      <th>1535</th>\n",
       "      <td>https://www.allrecipes.com/recipe/188706/cabba...</td>\n",
       "      <td>cabbage-and-noodles</td>\n",
       "      <td>4.505465</td>\n",
       "      <td>293 reviews</td>\n",
       "      <td>NaN</td>\n",
       "      <td>4.0</td>\n",
       "      <td>45 m</td>\n",
       "      <td>447 calories;</td>\n",
       "      <td>19.1</td>\n",
       "      <td>53.1</td>\n",
       "      <td>17.5</td>\n",
       "      <td>90.0</td>\n",
       "      <td>616.0</td>\n",
       "    </tr>\n",
       "  </tbody>\n",
       "</table>\n",
       "</div>"
      ],
      "text/plain": [
       "                                                   link                title  \\\n",
       "1535  https://www.allrecipes.com/recipe/188706/cabba...  cabbage-and-noodles   \n",
       "\n",
       "       ratings  num_reviews ingredients  servings cook_time        calorie  \\\n",
       "1535  4.505465  293 reviews         NaN       4.0      45 m  447 calories;   \n",
       "\n",
       "      fat_g  carb_g  protein_g cholesterol_mg sodium_mg  \n",
       "1535   19.1    53.1       17.5           90.0     616.0  "
      ]
     },
     "execution_count": 15,
     "metadata": {},
     "output_type": "execute_result"
    }
   ],
   "source": [
    "df[df.ingredients.isnull()]"
   ]
  },
  {
   "cell_type": "code",
   "execution_count": 16,
   "metadata": {},
   "outputs": [],
   "source": [
    "df.drop(1535, inplace=True)"
   ]
  },
  {
   "cell_type": "code",
   "execution_count": 17,
   "metadata": {},
   "outputs": [
    {
     "ename": "AttributeError",
     "evalue": "'DataFrame' object has no attribute 'types'",
     "output_type": "error",
     "traceback": [
      "\u001b[1;31m---------------------------------------------------------------------------\u001b[0m",
      "\u001b[1;31mAttributeError\u001b[0m                            Traceback (most recent call last)",
      "\u001b[1;32m<ipython-input-17-3c024b1b554d>\u001b[0m in \u001b[0;36m<module>\u001b[1;34m\u001b[0m\n\u001b[1;32m----> 1\u001b[1;33m \u001b[0mdf\u001b[0m\u001b[1;33m.\u001b[0m\u001b[0mtypes\u001b[0m\u001b[1;33m\u001b[0m\u001b[1;33m\u001b[0m\u001b[0m\n\u001b[0m",
      "\u001b[1;32m~\\anaconda3\\lib\\site-packages\\pandas\\core\\generic.py\u001b[0m in \u001b[0;36m__getattr__\u001b[1;34m(self, name)\u001b[0m\n\u001b[0;32m   5272\u001b[0m             \u001b[1;32mif\u001b[0m \u001b[0mself\u001b[0m\u001b[1;33m.\u001b[0m\u001b[0m_info_axis\u001b[0m\u001b[1;33m.\u001b[0m\u001b[0m_can_hold_identifiers_and_holds_name\u001b[0m\u001b[1;33m(\u001b[0m\u001b[0mname\u001b[0m\u001b[1;33m)\u001b[0m\u001b[1;33m:\u001b[0m\u001b[1;33m\u001b[0m\u001b[1;33m\u001b[0m\u001b[0m\n\u001b[0;32m   5273\u001b[0m                 \u001b[1;32mreturn\u001b[0m \u001b[0mself\u001b[0m\u001b[1;33m[\u001b[0m\u001b[0mname\u001b[0m\u001b[1;33m]\u001b[0m\u001b[1;33m\u001b[0m\u001b[1;33m\u001b[0m\u001b[0m\n\u001b[1;32m-> 5274\u001b[1;33m             \u001b[1;32mreturn\u001b[0m \u001b[0mobject\u001b[0m\u001b[1;33m.\u001b[0m\u001b[0m__getattribute__\u001b[0m\u001b[1;33m(\u001b[0m\u001b[0mself\u001b[0m\u001b[1;33m,\u001b[0m \u001b[0mname\u001b[0m\u001b[1;33m)\u001b[0m\u001b[1;33m\u001b[0m\u001b[1;33m\u001b[0m\u001b[0m\n\u001b[0m\u001b[0;32m   5275\u001b[0m \u001b[1;33m\u001b[0m\u001b[0m\n\u001b[0;32m   5276\u001b[0m     \u001b[1;32mdef\u001b[0m \u001b[0m__setattr__\u001b[0m\u001b[1;33m(\u001b[0m\u001b[0mself\u001b[0m\u001b[1;33m,\u001b[0m \u001b[0mname\u001b[0m\u001b[1;33m:\u001b[0m \u001b[0mstr\u001b[0m\u001b[1;33m,\u001b[0m \u001b[0mvalue\u001b[0m\u001b[1;33m)\u001b[0m \u001b[1;33m->\u001b[0m \u001b[1;32mNone\u001b[0m\u001b[1;33m:\u001b[0m\u001b[1;33m\u001b[0m\u001b[1;33m\u001b[0m\u001b[0m\n",
      "\u001b[1;31mAttributeError\u001b[0m: 'DataFrame' object has no attribute 'types'"
     ]
    }
   ],
   "source": [
    "df.types"
   ]
  },
  {
   "cell_type": "code",
   "execution_count": 18,
   "metadata": {},
   "outputs": [
    {
     "data": {
      "text/plain": [
       "link               object\n",
       "title              object\n",
       "ratings           float64\n",
       "num_reviews        object\n",
       "ingredients        object\n",
       "servings          float64\n",
       "cook_time          object\n",
       "calorie            object\n",
       "fat_g             float64\n",
       "carb_g            float64\n",
       "protein_g         float64\n",
       "cholesterol_mg     object\n",
       "sodium_mg          object\n",
       "dtype: object"
      ]
     },
     "execution_count": 18,
     "metadata": {},
     "output_type": "execute_result"
    }
   ],
   "source": [
    "df.dtypes"
   ]
  },
  {
   "cell_type": "code",
   "execution_count": 19,
   "metadata": {},
   "outputs": [
    {
     "data": {
      "text/html": [
       "<div>\n",
       "<style scoped>\n",
       "    .dataframe tbody tr th:only-of-type {\n",
       "        vertical-align: middle;\n",
       "    }\n",
       "\n",
       "    .dataframe tbody tr th {\n",
       "        vertical-align: top;\n",
       "    }\n",
       "\n",
       "    .dataframe thead th {\n",
       "        text-align: right;\n",
       "    }\n",
       "</style>\n",
       "<table border=\"1\" class=\"dataframe\">\n",
       "  <thead>\n",
       "    <tr style=\"text-align: right;\">\n",
       "      <th></th>\n",
       "      <th>link</th>\n",
       "      <th>title</th>\n",
       "      <th>ratings</th>\n",
       "      <th>num_reviews</th>\n",
       "      <th>ingredients</th>\n",
       "      <th>servings</th>\n",
       "      <th>cook_time</th>\n",
       "      <th>calorie</th>\n",
       "      <th>fat_g</th>\n",
       "      <th>carb_g</th>\n",
       "      <th>protein_g</th>\n",
       "      <th>cholesterol_mg</th>\n",
       "      <th>sodium_mg</th>\n",
       "    </tr>\n",
       "  </thead>\n",
       "  <tbody>\n",
       "    <tr>\n",
       "      <th>0</th>\n",
       "      <td>https://www.allrecipes.com/recipe/100164/chip-...</td>\n",
       "      <td>chip-truck-fries</td>\n",
       "      <td>4.4375</td>\n",
       "      <td>44 reviews</td>\n",
       "      <td>['6 baking potatoes, cut into 1/4 inch slices'...</td>\n",
       "      <td>4.0</td>\n",
       "      <td>1 h</td>\n",
       "      <td>369 calories;</td>\n",
       "      <td>14.0</td>\n",
       "      <td>56.3</td>\n",
       "      <td>6.5</td>\n",
       "      <td>0</td>\n",
       "      <td>478.0</td>\n",
       "    </tr>\n",
       "  </tbody>\n",
       "</table>\n",
       "</div>"
      ],
      "text/plain": [
       "                                                link             title  \\\n",
       "0  https://www.allrecipes.com/recipe/100164/chip-...  chip-truck-fries   \n",
       "\n",
       "   ratings num_reviews                                        ingredients  \\\n",
       "0   4.4375  44 reviews  ['6 baking potatoes, cut into 1/4 inch slices'...   \n",
       "\n",
       "   servings cook_time        calorie  fat_g  carb_g  protein_g cholesterol_mg  \\\n",
       "0       4.0       1 h  369 calories;   14.0    56.3        6.5              0   \n",
       "\n",
       "  sodium_mg  \n",
       "0     478.0  "
      ]
     },
     "execution_count": 19,
     "metadata": {},
     "output_type": "execute_result"
    }
   ],
   "source": [
    "df.head(1)"
   ]
  },
  {
   "cell_type": "code",
   "execution_count": 20,
   "metadata": {},
   "outputs": [],
   "source": [
    "df.num_reviews = df.num_reviews.apply(lambda x: x[:-8])"
   ]
  },
  {
   "cell_type": "code",
   "execution_count": 21,
   "metadata": {},
   "outputs": [
    {
     "name": "stderr",
     "output_type": "stream",
     "text": [
      "C:\\Users\\chamo\\anaconda3\\lib\\site-packages\\pandas\\core\\generic.py:5303: SettingWithCopyWarning: \n",
      "A value is trying to be set on a copy of a slice from a DataFrame.\n",
      "Try using .loc[row_indexer,col_indexer] = value instead\n",
      "\n",
      "See the caveats in the documentation: https://pandas.pydata.org/pandas-docs/stable/user_guide/indexing.html#returning-a-view-versus-a-copy\n",
      "  self[name] = value\n"
     ]
    }
   ],
   "source": [
    "df_replace_k = df[df.num_reviews.str.contains('k')]\n",
    "df_replace_k.num_reviews = df_replace_k.num_reviews.apply(lambda x: x[:-1] + '000')"
   ]
  },
  {
   "cell_type": "code",
   "execution_count": 22,
   "metadata": {},
   "outputs": [],
   "source": [
    "replace_idx = df_replace_k.index.tolist()\n",
    "for idx in replace_idx:\n",
    "    df.loc[idx] = df_replace_k.loc[idx]"
   ]
  },
  {
   "cell_type": "code",
   "execution_count": 23,
   "metadata": {},
   "outputs": [],
   "source": [
    "df.num_reviews = df.num_reviews.astype('int')"
   ]
  },
  {
   "cell_type": "code",
   "execution_count": 24,
   "metadata": {},
   "outputs": [
    {
     "name": "stdout",
     "output_type": "stream",
     "text": [
      "int32\n"
     ]
    },
    {
     "data": {
      "text/html": [
       "<div>\n",
       "<style scoped>\n",
       "    .dataframe tbody tr th:only-of-type {\n",
       "        vertical-align: middle;\n",
       "    }\n",
       "\n",
       "    .dataframe tbody tr th {\n",
       "        vertical-align: top;\n",
       "    }\n",
       "\n",
       "    .dataframe thead th {\n",
       "        text-align: right;\n",
       "    }\n",
       "</style>\n",
       "<table border=\"1\" class=\"dataframe\">\n",
       "  <thead>\n",
       "    <tr style=\"text-align: right;\">\n",
       "      <th></th>\n",
       "      <th>link</th>\n",
       "      <th>title</th>\n",
       "      <th>ratings</th>\n",
       "      <th>num_reviews</th>\n",
       "      <th>ingredients</th>\n",
       "      <th>servings</th>\n",
       "      <th>cook_time</th>\n",
       "      <th>calorie</th>\n",
       "      <th>fat_g</th>\n",
       "      <th>carb_g</th>\n",
       "      <th>protein_g</th>\n",
       "      <th>cholesterol_mg</th>\n",
       "      <th>sodium_mg</th>\n",
       "    </tr>\n",
       "  </thead>\n",
       "  <tbody>\n",
       "    <tr>\n",
       "      <th>9</th>\n",
       "      <td>https://www.allrecipes.com/recipe/104850/black...</td>\n",
       "      <td>black-bean-and-corn-quesadillas</td>\n",
       "      <td>4.624080</td>\n",
       "      <td>1000</td>\n",
       "      <td>['2 teaspoons olive oil', '3 tablespoons finel...</td>\n",
       "      <td>8.0</td>\n",
       "      <td>40 m</td>\n",
       "      <td>363 calories;</td>\n",
       "      <td>14.5</td>\n",
       "      <td>45.6</td>\n",
       "      <td>13.9</td>\n",
       "      <td>26</td>\n",
       "      <td>732.0</td>\n",
       "    </tr>\n",
       "    <tr>\n",
       "      <th>81</th>\n",
       "      <td>https://www.allrecipes.com/recipe/142027/sweet...</td>\n",
       "      <td>sweet-restaurant-slaw</td>\n",
       "      <td>4.764481</td>\n",
       "      <td>2000</td>\n",
       "      <td>['1 (16 ounce) bag coleslaw mix', '2 tablespoo...</td>\n",
       "      <td>8.0</td>\n",
       "      <td>2 h 15 m</td>\n",
       "      <td>200 calories;</td>\n",
       "      <td>12.0</td>\n",
       "      <td>22.5</td>\n",
       "      <td>0.8</td>\n",
       "      <td>11</td>\n",
       "      <td>253</td>\n",
       "    </tr>\n",
       "  </tbody>\n",
       "</table>\n",
       "</div>"
      ],
      "text/plain": [
       "                                                 link  \\\n",
       "9   https://www.allrecipes.com/recipe/104850/black...   \n",
       "81  https://www.allrecipes.com/recipe/142027/sweet...   \n",
       "\n",
       "                              title   ratings  num_reviews  \\\n",
       "9   black-bean-and-corn-quesadillas  4.624080         1000   \n",
       "81            sweet-restaurant-slaw  4.764481         2000   \n",
       "\n",
       "                                          ingredients  servings cook_time  \\\n",
       "9   ['2 teaspoons olive oil', '3 tablespoons finel...       8.0      40 m   \n",
       "81  ['1 (16 ounce) bag coleslaw mix', '2 tablespoo...       8.0  2 h 15 m   \n",
       "\n",
       "          calorie  fat_g  carb_g  protein_g cholesterol_mg sodium_mg  \n",
       "9   363 calories;   14.5    45.6       13.9             26     732.0  \n",
       "81  200 calories;   12.0    22.5        0.8             11       253  "
      ]
     },
     "execution_count": 24,
     "metadata": {},
     "output_type": "execute_result"
    }
   ],
   "source": [
    "print(df.num_reviews.dtypes)\n",
    "df.loc[replace_idx[:2]]"
   ]
  },
  {
   "cell_type": "code",
   "execution_count": 25,
   "metadata": {},
   "outputs": [
    {
     "ename": "AttributeError",
     "evalue": "'Series' object has no attribute 'tonull'",
     "output_type": "error",
     "traceback": [
      "\u001b[1;31m---------------------------------------------------------------------------\u001b[0m",
      "\u001b[1;31mAttributeError\u001b[0m                            Traceback (most recent call last)",
      "\u001b[1;32m<ipython-input-25-c3021ed1894b>\u001b[0m in \u001b[0;36m<module>\u001b[1;34m\u001b[0m\n\u001b[1;32m----> 1\u001b[1;33m \u001b[0mdf_cooktime\u001b[0m \u001b[1;33m=\u001b[0m \u001b[0mdf\u001b[0m\u001b[1;33m[\u001b[0m\u001b[0mdf\u001b[0m\u001b[1;33m.\u001b[0m\u001b[0mcook_time\u001b[0m\u001b[1;33m.\u001b[0m\u001b[0mtonull\u001b[0m\u001b[1;33m(\u001b[0m\u001b[1;33m)\u001b[0m\u001b[1;33m]\u001b[0m\u001b[1;33m\u001b[0m\u001b[1;33m\u001b[0m\u001b[0m\n\u001b[0m",
      "\u001b[1;32m~\\anaconda3\\lib\\site-packages\\pandas\\core\\generic.py\u001b[0m in \u001b[0;36m__getattr__\u001b[1;34m(self, name)\u001b[0m\n\u001b[0;32m   5272\u001b[0m             \u001b[1;32mif\u001b[0m \u001b[0mself\u001b[0m\u001b[1;33m.\u001b[0m\u001b[0m_info_axis\u001b[0m\u001b[1;33m.\u001b[0m\u001b[0m_can_hold_identifiers_and_holds_name\u001b[0m\u001b[1;33m(\u001b[0m\u001b[0mname\u001b[0m\u001b[1;33m)\u001b[0m\u001b[1;33m:\u001b[0m\u001b[1;33m\u001b[0m\u001b[1;33m\u001b[0m\u001b[0m\n\u001b[0;32m   5273\u001b[0m                 \u001b[1;32mreturn\u001b[0m \u001b[0mself\u001b[0m\u001b[1;33m[\u001b[0m\u001b[0mname\u001b[0m\u001b[1;33m]\u001b[0m\u001b[1;33m\u001b[0m\u001b[1;33m\u001b[0m\u001b[0m\n\u001b[1;32m-> 5274\u001b[1;33m             \u001b[1;32mreturn\u001b[0m \u001b[0mobject\u001b[0m\u001b[1;33m.\u001b[0m\u001b[0m__getattribute__\u001b[0m\u001b[1;33m(\u001b[0m\u001b[0mself\u001b[0m\u001b[1;33m,\u001b[0m \u001b[0mname\u001b[0m\u001b[1;33m)\u001b[0m\u001b[1;33m\u001b[0m\u001b[1;33m\u001b[0m\u001b[0m\n\u001b[0m\u001b[0;32m   5275\u001b[0m \u001b[1;33m\u001b[0m\u001b[0m\n\u001b[0;32m   5276\u001b[0m     \u001b[1;32mdef\u001b[0m \u001b[0m__setattr__\u001b[0m\u001b[1;33m(\u001b[0m\u001b[0mself\u001b[0m\u001b[1;33m,\u001b[0m \u001b[0mname\u001b[0m\u001b[1;33m:\u001b[0m \u001b[0mstr\u001b[0m\u001b[1;33m,\u001b[0m \u001b[0mvalue\u001b[0m\u001b[1;33m)\u001b[0m \u001b[1;33m->\u001b[0m \u001b[1;32mNone\u001b[0m\u001b[1;33m:\u001b[0m\u001b[1;33m\u001b[0m\u001b[1;33m\u001b[0m\u001b[0m\n",
      "\u001b[1;31mAttributeError\u001b[0m: 'Series' object has no attribute 'tonull'"
     ]
    }
   ],
   "source": [
    "df_cooktime = df[df.cook_time.tonull()]"
   ]
  },
  {
   "cell_type": "code",
   "execution_count": 26,
   "metadata": {},
   "outputs": [],
   "source": [
    "df_cooktime = df[df.cook_time.notnull()]"
   ]
  },
  {
   "cell_type": "code",
   "execution_count": 28,
   "metadata": {},
   "outputs": [],
   "source": [
    "def convert_cooktime(x):\n",
    "    cooktime = x.split()\n",
    "    if 'h' in cooktime and 'm' in cooktime:\n",
    "        x= int(cooktime[0]) * 60 + int(cooktime[2])\n",
    "    elif 'h' in cooktime and 'm' not in cooktime:\n",
    "        x = int(cooktime[0]) * 60\n",
    "    else:\n",
    "        x = int(cooktime[0])\n",
    "    return x\n",
    "            \n",
    "                "
   ]
  },
  {
   "cell_type": "code",
   "execution_count": 29,
   "metadata": {},
   "outputs": [
    {
     "name": "stderr",
     "output_type": "stream",
     "text": [
      "C:\\Users\\chamo\\anaconda3\\lib\\site-packages\\pandas\\core\\generic.py:5303: SettingWithCopyWarning: \n",
      "A value is trying to be set on a copy of a slice from a DataFrame.\n",
      "Try using .loc[row_indexer,col_indexer] = value instead\n",
      "\n",
      "See the caveats in the documentation: https://pandas.pydata.org/pandas-docs/stable/user_guide/indexing.html#returning-a-view-versus-a-copy\n",
      "  self[name] = value\n"
     ]
    }
   ],
   "source": [
    "df_cooktime.cook_time = df_cooktime.cook_time.apply(convert_cooktime)"
   ]
  },
  {
   "cell_type": "code",
   "execution_count": 31,
   "metadata": {},
   "outputs": [],
   "source": [
    "replace_idx = df_cooktime.index.tolist()\n",
    "for idx in replace_idx: \n",
    "    df.loc[idx] = df_cooktime.loc[idx]"
   ]
  },
  {
   "cell_type": "code",
   "execution_count": 32,
   "metadata": {},
   "outputs": [
    {
     "name": "stdout",
     "output_type": "stream",
     "text": [
      "object\n"
     ]
    }
   ],
   "source": [
    "print(df.cook_time.dtypes)"
   ]
  },
  {
   "cell_type": "code",
   "execution_count": 33,
   "metadata": {},
   "outputs": [
    {
     "data": {
      "text/html": [
       "<div>\n",
       "<style scoped>\n",
       "    .dataframe tbody tr th:only-of-type {\n",
       "        vertical-align: middle;\n",
       "    }\n",
       "\n",
       "    .dataframe tbody tr th {\n",
       "        vertical-align: top;\n",
       "    }\n",
       "\n",
       "    .dataframe thead th {\n",
       "        text-align: right;\n",
       "    }\n",
       "</style>\n",
       "<table border=\"1\" class=\"dataframe\">\n",
       "  <thead>\n",
       "    <tr style=\"text-align: right;\">\n",
       "      <th></th>\n",
       "      <th>link</th>\n",
       "      <th>title</th>\n",
       "      <th>ratings</th>\n",
       "      <th>num_reviews</th>\n",
       "      <th>ingredients</th>\n",
       "      <th>servings</th>\n",
       "      <th>cook_time</th>\n",
       "      <th>calorie</th>\n",
       "      <th>fat_g</th>\n",
       "      <th>carb_g</th>\n",
       "      <th>protein_g</th>\n",
       "      <th>cholesterol_mg</th>\n",
       "      <th>sodium_mg</th>\n",
       "    </tr>\n",
       "  </thead>\n",
       "  <tbody>\n",
       "    <tr>\n",
       "      <th>0</th>\n",
       "      <td>https://www.allrecipes.com/recipe/100164/chip-...</td>\n",
       "      <td>chip-truck-fries</td>\n",
       "      <td>4.437500</td>\n",
       "      <td>44</td>\n",
       "      <td>['6 baking potatoes, cut into 1/4 inch slices'...</td>\n",
       "      <td>4.0</td>\n",
       "      <td>60</td>\n",
       "      <td>369 calories;</td>\n",
       "      <td>14.0</td>\n",
       "      <td>56.3</td>\n",
       "      <td>6.5</td>\n",
       "      <td>0</td>\n",
       "      <td>478.0</td>\n",
       "    </tr>\n",
       "    <tr>\n",
       "      <th>1</th>\n",
       "      <td>https://www.allrecipes.com/recipe/100378/irish...</td>\n",
       "      <td>irish-bacon-and-cabbage-soup</td>\n",
       "      <td>4.536946</td>\n",
       "      <td>163</td>\n",
       "      <td>['1/2 pound Irish bacon, diced', '2 large pota...</td>\n",
       "      <td>4.0</td>\n",
       "      <td>45</td>\n",
       "      <td>276 calories;</td>\n",
       "      <td>8.1</td>\n",
       "      <td>38.4</td>\n",
       "      <td>12.3</td>\n",
       "      <td>21</td>\n",
       "      <td>825.0</td>\n",
       "    </tr>\n",
       "  </tbody>\n",
       "</table>\n",
       "</div>"
      ],
      "text/plain": [
       "                                                link  \\\n",
       "0  https://www.allrecipes.com/recipe/100164/chip-...   \n",
       "1  https://www.allrecipes.com/recipe/100378/irish...   \n",
       "\n",
       "                          title   ratings  num_reviews  \\\n",
       "0              chip-truck-fries  4.437500           44   \n",
       "1  irish-bacon-and-cabbage-soup  4.536946          163   \n",
       "\n",
       "                                         ingredients  servings cook_time  \\\n",
       "0  ['6 baking potatoes, cut into 1/4 inch slices'...       4.0        60   \n",
       "1  ['1/2 pound Irish bacon, diced', '2 large pota...       4.0        45   \n",
       "\n",
       "         calorie  fat_g  carb_g  protein_g cholesterol_mg sodium_mg  \n",
       "0  369 calories;   14.0    56.3        6.5              0     478.0  \n",
       "1  276 calories;    8.1    38.4       12.3             21     825.0  "
      ]
     },
     "execution_count": 33,
     "metadata": {},
     "output_type": "execute_result"
    }
   ],
   "source": [
    "df.loc[replace_idx[:2]]"
   ]
  },
  {
   "cell_type": "code",
   "execution_count": 34,
   "metadata": {},
   "outputs": [],
   "source": [
    "df.cook_time.fillna(0, inplace=True)"
   ]
  },
  {
   "cell_type": "code",
   "execution_count": 35,
   "metadata": {},
   "outputs": [
    {
     "data": {
      "text/plain": [
       "dtype('int64')"
      ]
     },
     "execution_count": 35,
     "metadata": {},
     "output_type": "execute_result"
    }
   ],
   "source": [
    "df.cook_time.dtypes"
   ]
  },
  {
   "cell_type": "code",
   "execution_count": 36,
   "metadata": {},
   "outputs": [],
   "source": [
    "df.calorie = df.calorie.apply(lambda x: float(x.split(' ')[0]))"
   ]
  },
  {
   "cell_type": "code",
   "execution_count": 37,
   "metadata": {},
   "outputs": [
    {
     "name": "stdout",
     "output_type": "stream",
     "text": [
      "float64\n"
     ]
    }
   ],
   "source": [
    "print(df.calorie.dtypes)"
   ]
  },
  {
   "cell_type": "code",
   "execution_count": 38,
   "metadata": {},
   "outputs": [
    {
     "data": {
      "text/html": [
       "<div>\n",
       "<style scoped>\n",
       "    .dataframe tbody tr th:only-of-type {\n",
       "        vertical-align: middle;\n",
       "    }\n",
       "\n",
       "    .dataframe tbody tr th {\n",
       "        vertical-align: top;\n",
       "    }\n",
       "\n",
       "    .dataframe thead th {\n",
       "        text-align: right;\n",
       "    }\n",
       "</style>\n",
       "<table border=\"1\" class=\"dataframe\">\n",
       "  <thead>\n",
       "    <tr style=\"text-align: right;\">\n",
       "      <th></th>\n",
       "      <th>link</th>\n",
       "      <th>title</th>\n",
       "      <th>ratings</th>\n",
       "      <th>num_reviews</th>\n",
       "      <th>ingredients</th>\n",
       "      <th>servings</th>\n",
       "      <th>cook_time</th>\n",
       "      <th>calorie</th>\n",
       "      <th>fat_g</th>\n",
       "      <th>carb_g</th>\n",
       "      <th>protein_g</th>\n",
       "      <th>cholesterol_mg</th>\n",
       "      <th>sodium_mg</th>\n",
       "    </tr>\n",
       "  </thead>\n",
       "  <tbody>\n",
       "    <tr>\n",
       "      <th>0</th>\n",
       "      <td>https://www.allrecipes.com/recipe/100164/chip-...</td>\n",
       "      <td>chip-truck-fries</td>\n",
       "      <td>4.4375</td>\n",
       "      <td>44</td>\n",
       "      <td>['6 baking potatoes, cut into 1/4 inch slices'...</td>\n",
       "      <td>4.0</td>\n",
       "      <td>60</td>\n",
       "      <td>369.0</td>\n",
       "      <td>14.0</td>\n",
       "      <td>56.3</td>\n",
       "      <td>6.5</td>\n",
       "      <td>0</td>\n",
       "      <td>478.0</td>\n",
       "    </tr>\n",
       "  </tbody>\n",
       "</table>\n",
       "</div>"
      ],
      "text/plain": [
       "                                                link             title  \\\n",
       "0  https://www.allrecipes.com/recipe/100164/chip-...  chip-truck-fries   \n",
       "\n",
       "   ratings  num_reviews                                        ingredients  \\\n",
       "0   4.4375           44  ['6 baking potatoes, cut into 1/4 inch slices'...   \n",
       "\n",
       "   servings  cook_time  calorie  fat_g  carb_g  protein_g cholesterol_mg  \\\n",
       "0       4.0         60    369.0   14.0    56.3        6.5              0   \n",
       "\n",
       "  sodium_mg  \n",
       "0     478.0  "
      ]
     },
     "execution_count": 38,
     "metadata": {},
     "output_type": "execute_result"
    }
   ],
   "source": [
    "df.head(1)"
   ]
  },
  {
   "cell_type": "code",
   "execution_count": 39,
   "metadata": {},
   "outputs": [],
   "source": [
    "df.cholesterol_mg = df.cholesterol_mg.replace('< 1', 0)"
   ]
  },
  {
   "cell_type": "code",
   "execution_count": 40,
   "metadata": {},
   "outputs": [],
   "source": [
    "df.sodium_mg = df.sodium_mg.replace('< 1', 0)"
   ]
  },
  {
   "cell_type": "code",
   "execution_count": 41,
   "metadata": {},
   "outputs": [],
   "source": [
    "df.cholesterol_mg = df.cholesterol_mg.astype(float)\n",
    "df.sodium_mg = df.sodium_mg.astype(float)"
   ]
  },
  {
   "cell_type": "code",
   "execution_count": 42,
   "metadata": {},
   "outputs": [
    {
     "name": "stdout",
     "output_type": "stream",
     "text": [
      "float64\n"
     ]
    }
   ],
   "source": [
    "print(df.cholesterol_mg.dtypes)"
   ]
  },
  {
   "cell_type": "code",
   "execution_count": 43,
   "metadata": {},
   "outputs": [
    {
     "name": "stdout",
     "output_type": "stream",
     "text": [
      "float64\n"
     ]
    }
   ],
   "source": [
    "print(df.sodium_mg.dtypes)"
   ]
  },
  {
   "cell_type": "code",
   "execution_count": 44,
   "metadata": {},
   "outputs": [],
   "source": [
    "df.sodium_mg = df.sodium_mg.fillna(np.round(df.sodium_mg.mean()))"
   ]
  },
  {
   "cell_type": "code",
   "execution_count": 45,
   "metadata": {},
   "outputs": [
    {
     "data": {
      "text/plain": [
       "dtype('float64')"
      ]
     },
     "execution_count": 45,
     "metadata": {},
     "output_type": "execute_result"
    }
   ],
   "source": [
    "df.sodium_mg.dtypes"
   ]
  },
  {
   "cell_type": "code",
   "execution_count": 46,
   "metadata": {},
   "outputs": [],
   "source": [
    "df.ratings = df.ratings.round(2)"
   ]
  },
  {
   "cell_type": "code",
   "execution_count": 47,
   "metadata": {},
   "outputs": [
    {
     "data": {
      "text/html": [
       "<div>\n",
       "<style scoped>\n",
       "    .dataframe tbody tr th:only-of-type {\n",
       "        vertical-align: middle;\n",
       "    }\n",
       "\n",
       "    .dataframe tbody tr th {\n",
       "        vertical-align: top;\n",
       "    }\n",
       "\n",
       "    .dataframe thead th {\n",
       "        text-align: right;\n",
       "    }\n",
       "</style>\n",
       "<table border=\"1\" class=\"dataframe\">\n",
       "  <thead>\n",
       "    <tr style=\"text-align: right;\">\n",
       "      <th></th>\n",
       "      <th>link</th>\n",
       "      <th>title</th>\n",
       "      <th>ratings</th>\n",
       "      <th>num_reviews</th>\n",
       "      <th>ingredients</th>\n",
       "      <th>servings</th>\n",
       "      <th>cook_time</th>\n",
       "      <th>calorie</th>\n",
       "      <th>fat_g</th>\n",
       "      <th>carb_g</th>\n",
       "      <th>protein_g</th>\n",
       "      <th>cholesterol_mg</th>\n",
       "      <th>sodium_mg</th>\n",
       "    </tr>\n",
       "  </thead>\n",
       "  <tbody>\n",
       "    <tr>\n",
       "      <th>0</th>\n",
       "      <td>https://www.allrecipes.com/recipe/100164/chip-...</td>\n",
       "      <td>chip-truck-fries</td>\n",
       "      <td>4.44</td>\n",
       "      <td>44</td>\n",
       "      <td>['6 baking potatoes, cut into 1/4 inch slices'...</td>\n",
       "      <td>4.0</td>\n",
       "      <td>60</td>\n",
       "      <td>369.0</td>\n",
       "      <td>14.0</td>\n",
       "      <td>56.3</td>\n",
       "      <td>6.5</td>\n",
       "      <td>0.0</td>\n",
       "      <td>478.0</td>\n",
       "    </tr>\n",
       "    <tr>\n",
       "      <th>1</th>\n",
       "      <td>https://www.allrecipes.com/recipe/100378/irish...</td>\n",
       "      <td>irish-bacon-and-cabbage-soup</td>\n",
       "      <td>4.54</td>\n",
       "      <td>163</td>\n",
       "      <td>['1/2 pound Irish bacon, diced', '2 large pota...</td>\n",
       "      <td>4.0</td>\n",
       "      <td>45</td>\n",
       "      <td>276.0</td>\n",
       "      <td>8.1</td>\n",
       "      <td>38.4</td>\n",
       "      <td>12.3</td>\n",
       "      <td>21.0</td>\n",
       "      <td>825.0</td>\n",
       "    </tr>\n",
       "  </tbody>\n",
       "</table>\n",
       "</div>"
      ],
      "text/plain": [
       "                                                link  \\\n",
       "0  https://www.allrecipes.com/recipe/100164/chip-...   \n",
       "1  https://www.allrecipes.com/recipe/100378/irish...   \n",
       "\n",
       "                          title  ratings  num_reviews  \\\n",
       "0              chip-truck-fries     4.44           44   \n",
       "1  irish-bacon-and-cabbage-soup     4.54          163   \n",
       "\n",
       "                                         ingredients  servings  cook_time  \\\n",
       "0  ['6 baking potatoes, cut into 1/4 inch slices'...       4.0         60   \n",
       "1  ['1/2 pound Irish bacon, diced', '2 large pota...       4.0         45   \n",
       "\n",
       "   calorie  fat_g  carb_g  protein_g  cholesterol_mg  sodium_mg  \n",
       "0    369.0   14.0    56.3        6.5             0.0      478.0  \n",
       "1    276.0    8.1    38.4       12.3            21.0      825.0  "
      ]
     },
     "execution_count": 47,
     "metadata": {},
     "output_type": "execute_result"
    }
   ],
   "source": [
    "df.head(2)"
   ]
  },
  {
   "cell_type": "code",
   "execution_count": 48,
   "metadata": {},
   "outputs": [],
   "source": [
    "df.title = df.title.apply(lambda x: x.replace('-', ' ').title())"
   ]
  },
  {
   "cell_type": "code",
   "execution_count": 49,
   "metadata": {},
   "outputs": [
    {
     "data": {
      "text/html": [
       "<div>\n",
       "<style scoped>\n",
       "    .dataframe tbody tr th:only-of-type {\n",
       "        vertical-align: middle;\n",
       "    }\n",
       "\n",
       "    .dataframe tbody tr th {\n",
       "        vertical-align: top;\n",
       "    }\n",
       "\n",
       "    .dataframe thead th {\n",
       "        text-align: right;\n",
       "    }\n",
       "</style>\n",
       "<table border=\"1\" class=\"dataframe\">\n",
       "  <thead>\n",
       "    <tr style=\"text-align: right;\">\n",
       "      <th></th>\n",
       "      <th>link</th>\n",
       "      <th>title</th>\n",
       "      <th>ratings</th>\n",
       "      <th>num_reviews</th>\n",
       "      <th>ingredients</th>\n",
       "      <th>servings</th>\n",
       "      <th>cook_time</th>\n",
       "      <th>calorie</th>\n",
       "      <th>fat_g</th>\n",
       "      <th>carb_g</th>\n",
       "      <th>protein_g</th>\n",
       "      <th>cholesterol_mg</th>\n",
       "      <th>sodium_mg</th>\n",
       "    </tr>\n",
       "  </thead>\n",
       "  <tbody>\n",
       "    <tr>\n",
       "      <th>0</th>\n",
       "      <td>https://www.allrecipes.com/recipe/100164/chip-...</td>\n",
       "      <td>Chip Truck Fries</td>\n",
       "      <td>4.44</td>\n",
       "      <td>44</td>\n",
       "      <td>['6 baking potatoes, cut into 1/4 inch slices'...</td>\n",
       "      <td>4.0</td>\n",
       "      <td>60</td>\n",
       "      <td>369.0</td>\n",
       "      <td>14.0</td>\n",
       "      <td>56.3</td>\n",
       "      <td>6.5</td>\n",
       "      <td>0.0</td>\n",
       "      <td>478.0</td>\n",
       "    </tr>\n",
       "    <tr>\n",
       "      <th>1</th>\n",
       "      <td>https://www.allrecipes.com/recipe/100378/irish...</td>\n",
       "      <td>Irish Bacon And Cabbage Soup</td>\n",
       "      <td>4.54</td>\n",
       "      <td>163</td>\n",
       "      <td>['1/2 pound Irish bacon, diced', '2 large pota...</td>\n",
       "      <td>4.0</td>\n",
       "      <td>45</td>\n",
       "      <td>276.0</td>\n",
       "      <td>8.1</td>\n",
       "      <td>38.4</td>\n",
       "      <td>12.3</td>\n",
       "      <td>21.0</td>\n",
       "      <td>825.0</td>\n",
       "    </tr>\n",
       "  </tbody>\n",
       "</table>\n",
       "</div>"
      ],
      "text/plain": [
       "                                                link  \\\n",
       "0  https://www.allrecipes.com/recipe/100164/chip-...   \n",
       "1  https://www.allrecipes.com/recipe/100378/irish...   \n",
       "\n",
       "                          title  ratings  num_reviews  \\\n",
       "0              Chip Truck Fries     4.44           44   \n",
       "1  Irish Bacon And Cabbage Soup     4.54          163   \n",
       "\n",
       "                                         ingredients  servings  cook_time  \\\n",
       "0  ['6 baking potatoes, cut into 1/4 inch slices'...       4.0         60   \n",
       "1  ['1/2 pound Irish bacon, diced', '2 large pota...       4.0         45   \n",
       "\n",
       "   calorie  fat_g  carb_g  protein_g  cholesterol_mg  sodium_mg  \n",
       "0    369.0   14.0    56.3        6.5             0.0      478.0  \n",
       "1    276.0    8.1    38.4       12.3            21.0      825.0  "
      ]
     },
     "execution_count": 49,
     "metadata": {},
     "output_type": "execute_result"
    }
   ],
   "source": [
    "df.head(2)"
   ]
  },
  {
   "cell_type": "code",
   "execution_count": 50,
   "metadata": {},
   "outputs": [
    {
     "data": {
      "text/plain": [
       "0"
      ]
     },
     "execution_count": 50,
     "metadata": {},
     "output_type": "execute_result"
    }
   ],
   "source": [
    "df.link.duplicated().sum()"
   ]
  },
  {
   "cell_type": "code",
   "execution_count": 51,
   "metadata": {},
   "outputs": [
    {
     "data": {
      "text/plain": [
       "0"
      ]
     },
     "execution_count": 51,
     "metadata": {},
     "output_type": "execute_result"
    }
   ],
   "source": [
    "df.title.duplicated().sum()"
   ]
  },
  {
   "cell_type": "code",
   "execution_count": 52,
   "metadata": {},
   "outputs": [
    {
     "data": {
      "text/plain": [
       "(4776, 13)"
      ]
     },
     "execution_count": 52,
     "metadata": {},
     "output_type": "execute_result"
    }
   ],
   "source": [
    "df.shape"
   ]
  },
  {
   "cell_type": "code",
   "execution_count": 53,
   "metadata": {},
   "outputs": [],
   "source": [
    "df.to_csv('preprocessed_foodrecipes.csv', index=False)"
   ]
  },
  {
   "cell_type": "code",
   "execution_count": null,
   "metadata": {},
   "outputs": [],
   "source": []
  }
 ],
 "metadata": {
  "kernelspec": {
   "display_name": "Python 3",
   "language": "python",
   "name": "python3"
  },
  "language_info": {
   "codemirror_mode": {
    "name": "ipython",
    "version": 3
   },
   "file_extension": ".py",
   "mimetype": "text/x-python",
   "name": "python",
   "nbconvert_exporter": "python",
   "pygments_lexer": "ipython3",
   "version": "3.7.6"
  }
 },
 "nbformat": 4,
 "nbformat_minor": 4
}
